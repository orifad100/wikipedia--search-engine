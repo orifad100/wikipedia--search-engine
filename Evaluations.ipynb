{
  "cells": [
    {
      "cell_type": "code",
      "execution_count": null,
      "metadata": {
        "colab": {
          "base_uri": "https://localhost:8080/"
        },
        "id": "bCPDHP7zTQJZ",
        "outputId": "f697766f-91ab-48a5-9d57-310f9b8cf60f"
      },
      "outputs": [
        {
          "name": "stderr",
          "output_type": "stream",
          "text": [
            "[nltk_data] Downloading package stopwords to /root/nltk_data...\n",
            "[nltk_data]   Unzipping corpora/stopwords.zip.\n"
          ]
        },
        {
          "data": {
            "text/plain": [
              "True"
            ]
          },
          "execution_count": 24,
          "metadata": {},
          "output_type": "execute_result"
        }
      ],
      "source": [
        "# download nltk stopwords\n",
        "import nltk\n",
        "nltk.download('stopwords')"
      ]
    },
    {
      "cell_type": "code",
      "execution_count": null,
      "metadata": {
        "colab": {
          "base_uri": "https://localhost:8080/"
        },
        "id": "G8fNRjCULBsS",
        "outputId": "afb970be-0c78-40d5-9be7-9573172c923a"
      },
      "outputs": [
        {
          "name": "stdout",
          "output_type": "stream",
          "text": [
            "Reading package lists... Done\n",
            "Building dependency tree       \n",
            "Reading state information... Done\n",
            "git is already the newest version (1:2.17.1-1ubuntu0.13).\n",
            "The following package was automatically installed and is no longer required:\n",
            "  libnvidia-common-460\n",
            "Use 'apt autoremove' to remove it.\n",
            "0 upgraded, 0 newly installed, 0 to remove and 21 not upgraded.\n"
          ]
        }
      ],
      "source": [
        " !apt-get install git"
      ]
    },
    {
      "cell_type": "code",
      "execution_count": null,
      "metadata": {
        "colab": {
          "base_uri": "https://localhost:8080/"
        },
        "id": "YWV2mzppDS_P",
        "outputId": "224ed753-54f9-41a6-e89e-6168ec607e0c"
      },
      "outputs": [
        {
          "name": "stdout",
          "output_type": "stream",
          "text": [
            "ERROR: unknown command \"git\"\n"
          ]
        }
      ],
      "source": [
        "!pip git clone https://github.com/facebookresearch/fastText.git"
      ]
    },
    {
      "cell_type": "code",
      "execution_count": null,
      "metadata": {
        "colab": {
          "base_uri": "https://localhost:8080/"
        },
        "id": "lAt6KT8xOgHH",
        "outputId": "e324e7a4-39f6-43c3-9432-228da4f7e578"
      },
      "outputs": [
        {
          "name": "stdout",
          "output_type": "stream",
          "text": [
            "\u001b[?25l     \u001b[90m━━━━━━━━━━━━━━━━━━━━━━━━━━━━━━━━━━━━━━━━\u001b[0m \u001b[32m0.0/106.6 KB\u001b[0m \u001b[31m?\u001b[0m eta \u001b[36m-:--:--\u001b[0m\r\u001b[2K     \u001b[90m━━━━━━━━━━━━━━━━━━━━━━━━━━━━━━━━━━━━━━━\u001b[0m \u001b[32m106.6/106.6 KB\u001b[0m \u001b[31m3.4 MB/s\u001b[0m eta \u001b[36m0:00:00\u001b[0m\n",
            "\u001b[?25h"
          ]
        }
      ],
      "source": [
        "# Install a particular version of `google-cloud-storage` because (oddly enough) \n",
        "# the  version on Colab and GCP is old. A dependency error below is okay.\n",
        "!pip install -q google-cloud-storage==1.43.0"
      ]
    },
    {
      "cell_type": "code",
      "execution_count": null,
      "metadata": {
        "colab": {
          "base_uri": "https://localhost:8080/"
        },
        "id": "f0iG8t7XKv_V",
        "outputId": "d662b81f-3673-413f-bf34-826730c9713a"
      },
      "outputs": [
        {
          "name": "stdout",
          "output_type": "stream",
          "text": [
            "python3: can't open file 'download_model.py': [Errno 2] No such file or directory\n"
          ]
        }
      ],
      "source": [
        "!python download_model.py en"
      ]
    },
    {
      "cell_type": "code",
      "execution_count": null,
      "metadata": {
        "id": "-oKFly5jFLFn"
      },
      "outputs": [],
      "source": [
        "# authenticate below for Google Storage access as needed\n",
        "from google.colab import auth\n",
        "auth.authenticate_user()"
      ]
    },
    {
      "cell_type": "code",
      "execution_count": null,
      "metadata": {
        "colab": {
          "base_uri": "https://localhost:8080/"
        },
        "id": "FrBdFNYgiyab",
        "outputId": "d981221c-502a-4467-abb6-d876133a2208"
      },
      "outputs": [
        {
          "name": "stdout",
          "output_type": "stream",
          "text": [
            "WARNING: timestamping does nothing in combination with -O. See the manual\n",
            "for details.\n",
            "\n",
            "--2023-01-12 08:17:23--  https://bin.equinox.io/c/4VmDzA7iaHb/ngrok-stable-linux-amd64.zip\n",
            "Resolving bin.equinox.io (bin.equinox.io)... 54.237.133.81, 54.161.241.46, 18.205.222.128, ...\n",
            "Connecting to bin.equinox.io (bin.equinox.io)|54.237.133.81|:443... connected.\n",
            "HTTP request sent, awaiting response... 200 OK\n",
            "Length: 13832437 (13M) [application/octet-stream]\n",
            "Saving to: ‘ngrok-stable-linux-amd64.zip’\n",
            "\n",
            "ngrok-stable-linux- 100%[===================>]  13.19M  4.77MB/s    in 2.8s    \n",
            "\n",
            "2023-01-12 08:17:27 (4.77 MB/s) - ‘ngrok-stable-linux-amd64.zip’ saved [13832437/13832437]\n",
            "\n",
            "Archive:  ngrok-stable-linux-amd64.zip\n",
            "  inflating: ngrok                   \n"
          ]
        }
      ],
      "source": [
        "# install ngrok to emulate public IP / address\n",
        "!wget -N https://bin.equinox.io/c/4VmDzA7iaHb/ngrok-stable-linux-amd64.zip -O ngrok-stable-linux-amd64.zip\n",
        "!unzip -u ngrok-stable-linux-amd64.zip"
      ]
    },
    {
      "cell_type": "code",
      "execution_count": null,
      "metadata": {
        "colab": {
          "base_uri": "https://localhost:8080/"
        },
        "id": "xA-_dKEZbsXW",
        "outputId": "182e4a82-f5f5-4116-cbb8-5d832f011986"
      },
      "outputs": [
        {
          "name": "stdout",
          "output_type": "stream",
          "text": [
            "Authtoken saved to configuration file: /root/.ngrok2/ngrok.yml\n"
          ]
        }
      ],
      "source": [
        "# TODO: sign up for an ngrok account\n",
        "# then put your ngrok token below, uncomment, and execute\n",
        "!./ngrok authtoken 22KeqcMQYpd2iRnsaZZOzlyaNw0_5NAk69pXRUMvfrf1oCNpU"
      ]
    },
    {
      "cell_type": "code",
      "execution_count": null,
      "metadata": {
        "colab": {
          "base_uri": "https://localhost:8080/"
        },
        "id": "nXn5PlyGORQr",
        "outputId": "6c0305eb-9bc1-44c3-921f-fa25558aedb4"
      },
      "outputs": [
        {
          "name": "stdout",
          "output_type": "stream",
          "text": [
            "\u001b[?25l     \u001b[90m━━━━━━━━━━━━━━━━━━━━━━━━━━━━━━━━━━━━━━━━\u001b[0m \u001b[32m0.0/52.8 KB\u001b[0m \u001b[31m?\u001b[0m eta \u001b[36m-:--:--\u001b[0m\r\u001b[2K     \u001b[90m━━━━━━━━━━━━━━━━━━━━━━━━━━━━━━━━━━━━━━━━\u001b[0m \u001b[32m52.8/52.8 KB\u001b[0m \u001b[31m5.5 MB/s\u001b[0m eta \u001b[36m0:00:00\u001b[0m\n",
            "\u001b[?25hLooking in indexes: https://pypi.org/simple, https://us-python.pkg.dev/colab-wheels/public/simple/\n",
            "Requirement already satisfied: fasttext in /usr/local/lib/python3.8/dist-packages/fasttext-0.9.2-py3.8-linux-x86_64.egg (0.9.2)\n",
            "Requirement already satisfied: pybind11>=2.2 in /usr/local/lib/python3.8/dist-packages (from fasttext) (2.10.3)\n",
            "Requirement already satisfied: setuptools>=0.7.0 in /usr/local/lib/python3.8/dist-packages (from fasttext) (57.4.0)\n",
            "Requirement already satisfied: numpy in /usr/local/lib/python3.8/dist-packages (from fasttext) (1.21.6)\n"
          ]
        }
      ],
      "source": [
        "# install a ngrok python package and a version of flask that works with it in \n",
        "# colab\n",
        "!pip -q install flask-ngrok\n",
        "!pip -q install flask==0.12.2\n",
        "!pip -q install flask_restful\n",
        "!pip install fasttext"
      ]
    },
    {
      "cell_type": "markdown",
      "metadata": {
        "id": "6dW0y91OVu5J"
      },
      "source": [
        "# Run the app"
      ]
    },
    {
      "cell_type": "code",
      "execution_count": null,
      "metadata": {
        "colab": {
          "base_uri": "https://localhost:8080/"
        },
        "id": "7opNkV6uRHIv",
        "outputId": "8d72f0de-0962-4c50-d626-94c99667ce46"
      },
      "outputs": [
        {
          "name": "stdout",
          "output_type": "stream",
          "text": [
            "Looking in indexes: https://pypi.org/simple, https://us-python.pkg.dev/colab-wheels/public/simple/\n",
            "Requirement already satisfied: fasttext==0.9.2 in /usr/local/lib/python3.8/dist-packages/fasttext-0.9.2-py3.8-linux-x86_64.egg (0.9.2)\n",
            "Requirement already satisfied: pybind11>=2.2 in /usr/local/lib/python3.8/dist-packages (from fasttext==0.9.2) (2.10.3)\n",
            "Requirement already satisfied: setuptools>=0.7.0 in /usr/local/lib/python3.8/dist-packages (from fasttext==0.9.2) (57.4.0)\n",
            "Requirement already satisfied: numpy in /usr/local/lib/python3.8/dist-packages (from fasttext==0.9.2) (1.21.6)\n"
          ]
        }
      ],
      "source": [
        "# you need to upload your implementation of search_app.py\n",
        "!pip install fasttext==0.9.2\n",
        "import search_frontend as se"
      ]
    },
    {
      "cell_type": "code",
      "execution_count": null,
      "metadata": {
        "colab": {
          "base_uri": "https://localhost:8080/"
        },
        "id": "oTGXXYEXV5l8",
        "outputId": "9ccc3329-6348-4005-b4d0-08f522e7fddf"
      },
      "outputs": [
        {
          "name": "stderr",
          "output_type": "stream",
          "text": [
            "[nltk_data] Downloading package stopwords to /root/nltk_data...\n",
            "[nltk_data]   Package stopwords is already up-to-date!\n"
          ]
        },
        {
          "data": {
            "text/plain": [
              "<module 'search_frontend' from '/content/search_frontend.py'>"
            ]
          },
          "execution_count": 76,
          "metadata": {},
          "output_type": "execute_result"
        }
      ],
      "source": [
        "\n",
        "# uncomment the code below and execute to reload the module when you make \n",
        "# changes to search_frontend.py (after you upload again).\n",
        "import importlib\n",
        "importlib.reload(se)"
      ]
    },
    {
      "cell_type": "code",
      "execution_count": null,
      "metadata": {
        "colab": {
          "base_uri": "https://localhost:8080/",
          "height": 1000
        },
        "id": "J5n9u9rFP_wD",
        "outputId": "02247144-ecb4-4598-d5de-e5519e0d4920"
      },
      "outputs": [
        {
          "ename": "FileNotFoundError",
          "evalue": "ignored",
          "output_type": "error",
          "traceback": [
            "\u001b[0;31m---------------------------------------------------------------------------\u001b[0m",
            "\u001b[0;31mFileNotFoundError\u001b[0m                         Traceback (most recent call last)",
            "\u001b[0;32m<ipython-input-77-d39fc6a3ae09>\u001b[0m in \u001b[0;36m<module>\u001b[0;34m\u001b[0m\n\u001b[1;32m      1\u001b[0m \u001b[0;32mfrom\u001b[0m \u001b[0mflask_ngrok\u001b[0m \u001b[0;32mimport\u001b[0m \u001b[0mrun_with_ngrok\u001b[0m\u001b[0;34m\u001b[0m\u001b[0;34m\u001b[0m\u001b[0m\n\u001b[1;32m      2\u001b[0m \u001b[0mrun_with_ngrok\u001b[0m\u001b[0;34m(\u001b[0m\u001b[0mse\u001b[0m\u001b[0;34m.\u001b[0m\u001b[0mapp\u001b[0m\u001b[0;34m)\u001b[0m\u001b[0;34m\u001b[0m\u001b[0;34m\u001b[0m\u001b[0m\n\u001b[0;32m----> 3\u001b[0;31m \u001b[0mse\u001b[0m\u001b[0;34m.\u001b[0m\u001b[0mapp\u001b[0m\u001b[0;34m.\u001b[0m\u001b[0mrun\u001b[0m\u001b[0;34m(\u001b[0m\u001b[0;34m)\u001b[0m\u001b[0;34m\u001b[0m\u001b[0;34m\u001b[0m\u001b[0m\n\u001b[0m",
            "\u001b[0;32m/usr/local/lib/python3.8/dist-packages/flask_ngrok.py\u001b[0m in \u001b[0;36mnew_run\u001b[0;34m()\u001b[0m\n\u001b[1;32m     86\u001b[0m         \u001b[0mthread\u001b[0m\u001b[0;34m.\u001b[0m\u001b[0msetDaemon\u001b[0m\u001b[0;34m(\u001b[0m\u001b[0;32mTrue\u001b[0m\u001b[0;34m)\u001b[0m\u001b[0;34m\u001b[0m\u001b[0;34m\u001b[0m\u001b[0m\n\u001b[1;32m     87\u001b[0m         \u001b[0mthread\u001b[0m\u001b[0;34m.\u001b[0m\u001b[0mstart\u001b[0m\u001b[0;34m(\u001b[0m\u001b[0;34m)\u001b[0m\u001b[0;34m\u001b[0m\u001b[0;34m\u001b[0m\u001b[0m\n\u001b[0;32m---> 88\u001b[0;31m         \u001b[0mold_run\u001b[0m\u001b[0;34m(\u001b[0m\u001b[0;34m)\u001b[0m\u001b[0;34m\u001b[0m\u001b[0;34m\u001b[0m\u001b[0m\n\u001b[0m\u001b[1;32m     89\u001b[0m     \u001b[0mapp\u001b[0m\u001b[0;34m.\u001b[0m\u001b[0mrun\u001b[0m \u001b[0;34m=\u001b[0m \u001b[0mnew_run\u001b[0m\u001b[0;34m\u001b[0m\u001b[0;34m\u001b[0m\u001b[0m\n",
            "\u001b[0;32m/content/search_frontend.py\u001b[0m in \u001b[0;36mrun\u001b[0;34m(self, host, port, debug, **options)\u001b[0m\n\u001b[1;32m     22\u001b[0m         \u001b[0mself\u001b[0m\u001b[0;34m.\u001b[0m\u001b[0mk1\u001b[0m\u001b[0;34m=\u001b[0m\u001b[0;36m1.5\u001b[0m\u001b[0;34m\u001b[0m\u001b[0;34m\u001b[0m\u001b[0m\n\u001b[1;32m     23\u001b[0m         \u001b[0mself\u001b[0m\u001b[0;34m.\u001b[0m\u001b[0mb\u001b[0m \u001b[0;34m=\u001b[0m\u001b[0;36m0.75\u001b[0m\u001b[0;34m\u001b[0m\u001b[0;34m\u001b[0m\u001b[0m\n\u001b[0;32m---> 24\u001b[0;31m         \u001b[0mself\u001b[0m\u001b[0;34m.\u001b[0m\u001b[0mmodel\u001b[0m \u001b[0;34m=\u001b[0m \u001b[0mgensim\u001b[0m\u001b[0;34m.\u001b[0m\u001b[0mmodels\u001b[0m\u001b[0;34m.\u001b[0m\u001b[0mKeyedVectors\u001b[0m\u001b[0;34m.\u001b[0m\u001b[0mload_word2vec_format\u001b[0m\u001b[0;34m(\u001b[0m\u001b[0;34m'model.bin'\u001b[0m\u001b[0;34m,\u001b[0m \u001b[0mbinary\u001b[0m\u001b[0;34m=\u001b[0m\u001b[0;32mTrue\u001b[0m\u001b[0;34m)\u001b[0m\u001b[0;34m\u001b[0m\u001b[0;34m\u001b[0m\u001b[0m\n\u001b[0m\u001b[1;32m     25\u001b[0m         \u001b[0msuper\u001b[0m\u001b[0;34m(\u001b[0m\u001b[0mMyFlaskApp\u001b[0m\u001b[0;34m,\u001b[0m \u001b[0mself\u001b[0m\u001b[0;34m)\u001b[0m\u001b[0;34m.\u001b[0m\u001b[0mrun\u001b[0m\u001b[0;34m(\u001b[0m\u001b[0mhost\u001b[0m\u001b[0;34m=\u001b[0m\u001b[0mhost\u001b[0m\u001b[0;34m,\u001b[0m \u001b[0mport\u001b[0m\u001b[0;34m=\u001b[0m\u001b[0mport\u001b[0m\u001b[0;34m,\u001b[0m \u001b[0mdebug\u001b[0m\u001b[0;34m=\u001b[0m\u001b[0mdebug\u001b[0m\u001b[0;34m,\u001b[0m \u001b[0;34m**\u001b[0m\u001b[0moptions\u001b[0m\u001b[0;34m)\u001b[0m\u001b[0;34m\u001b[0m\u001b[0;34m\u001b[0m\u001b[0m\n\u001b[1;32m     26\u001b[0m \u001b[0;34m\u001b[0m\u001b[0m\n",
            "\u001b[0;32m/usr/local/lib/python3.8/dist-packages/gensim/models/keyedvectors.py\u001b[0m in \u001b[0;36mload_word2vec_format\u001b[0;34m(cls, fname, fvocab, binary, encoding, unicode_errors, limit, datatype)\u001b[0m\n\u001b[1;32m   1434\u001b[0m         \"\"\"\n\u001b[1;32m   1435\u001b[0m         \u001b[0;31m# from gensim.models.word2vec import load_word2vec_format\u001b[0m\u001b[0;34m\u001b[0m\u001b[0;34m\u001b[0m\u001b[0;34m\u001b[0m\u001b[0m\n\u001b[0;32m-> 1436\u001b[0;31m         return _load_word2vec_format(\n\u001b[0m\u001b[1;32m   1437\u001b[0m             \u001b[0mcls\u001b[0m\u001b[0;34m,\u001b[0m \u001b[0mfname\u001b[0m\u001b[0;34m,\u001b[0m \u001b[0mfvocab\u001b[0m\u001b[0;34m=\u001b[0m\u001b[0mfvocab\u001b[0m\u001b[0;34m,\u001b[0m \u001b[0mbinary\u001b[0m\u001b[0;34m=\u001b[0m\u001b[0mbinary\u001b[0m\u001b[0;34m,\u001b[0m \u001b[0mencoding\u001b[0m\u001b[0;34m=\u001b[0m\u001b[0mencoding\u001b[0m\u001b[0;34m,\u001b[0m \u001b[0municode_errors\u001b[0m\u001b[0;34m=\u001b[0m\u001b[0municode_errors\u001b[0m\u001b[0;34m,\u001b[0m\u001b[0;34m\u001b[0m\u001b[0;34m\u001b[0m\u001b[0m\n\u001b[1;32m   1438\u001b[0m             limit=limit, datatype=datatype)\n",
            "\u001b[0;32m/usr/local/lib/python3.8/dist-packages/gensim/models/utils_any2vec.py\u001b[0m in \u001b[0;36m_load_word2vec_format\u001b[0;34m(cls, fname, fvocab, binary, encoding, unicode_errors, limit, datatype)\u001b[0m\n\u001b[1;32m    169\u001b[0m \u001b[0;34m\u001b[0m\u001b[0m\n\u001b[1;32m    170\u001b[0m     \u001b[0mlogger\u001b[0m\u001b[0;34m.\u001b[0m\u001b[0minfo\u001b[0m\u001b[0;34m(\u001b[0m\u001b[0;34m\"loading projection weights from %s\"\u001b[0m\u001b[0;34m,\u001b[0m \u001b[0mfname\u001b[0m\u001b[0;34m)\u001b[0m\u001b[0;34m\u001b[0m\u001b[0;34m\u001b[0m\u001b[0m\n\u001b[0;32m--> 171\u001b[0;31m     \u001b[0;32mwith\u001b[0m \u001b[0mutils\u001b[0m\u001b[0;34m.\u001b[0m\u001b[0msmart_open\u001b[0m\u001b[0;34m(\u001b[0m\u001b[0mfname\u001b[0m\u001b[0;34m)\u001b[0m \u001b[0;32mas\u001b[0m \u001b[0mfin\u001b[0m\u001b[0;34m:\u001b[0m\u001b[0;34m\u001b[0m\u001b[0;34m\u001b[0m\u001b[0m\n\u001b[0m\u001b[1;32m    172\u001b[0m         \u001b[0mheader\u001b[0m \u001b[0;34m=\u001b[0m \u001b[0mutils\u001b[0m\u001b[0;34m.\u001b[0m\u001b[0mto_unicode\u001b[0m\u001b[0;34m(\u001b[0m\u001b[0mfin\u001b[0m\u001b[0;34m.\u001b[0m\u001b[0mreadline\u001b[0m\u001b[0;34m(\u001b[0m\u001b[0;34m)\u001b[0m\u001b[0;34m,\u001b[0m \u001b[0mencoding\u001b[0m\u001b[0;34m=\u001b[0m\u001b[0mencoding\u001b[0m\u001b[0;34m)\u001b[0m\u001b[0;34m\u001b[0m\u001b[0;34m\u001b[0m\u001b[0m\n\u001b[1;32m    173\u001b[0m         \u001b[0mvocab_size\u001b[0m\u001b[0;34m,\u001b[0m \u001b[0mvector_size\u001b[0m \u001b[0;34m=\u001b[0m \u001b[0;34m(\u001b[0m\u001b[0mint\u001b[0m\u001b[0;34m(\u001b[0m\u001b[0mx\u001b[0m\u001b[0;34m)\u001b[0m \u001b[0;32mfor\u001b[0m \u001b[0mx\u001b[0m \u001b[0;32min\u001b[0m \u001b[0mheader\u001b[0m\u001b[0;34m.\u001b[0m\u001b[0msplit\u001b[0m\u001b[0;34m(\u001b[0m\u001b[0;34m)\u001b[0m\u001b[0;34m)\u001b[0m  \u001b[0;31m# throws for invalid file format\u001b[0m\u001b[0;34m\u001b[0m\u001b[0;34m\u001b[0m\u001b[0m\n",
            "\u001b[0;32m/usr/local/lib/python3.8/dist-packages/smart_open/smart_open_lib.py\u001b[0m in \u001b[0;36msmart_open\u001b[0;34m(***failed resolving arguments***)\u001b[0m\n\u001b[1;32m    501\u001b[0m         \u001b[0mcompression\u001b[0m \u001b[0;34m=\u001b[0m \u001b[0mso_compression\u001b[0m\u001b[0;34m.\u001b[0m\u001b[0mINFER_FROM_EXTENSION\u001b[0m\u001b[0;34m\u001b[0m\u001b[0;34m\u001b[0m\u001b[0m\n\u001b[1;32m    502\u001b[0m     \u001b[0;32mdel\u001b[0m \u001b[0mkwargs\u001b[0m\u001b[0;34m,\u001b[0m \u001b[0murl\u001b[0m\u001b[0;34m,\u001b[0m \u001b[0mmessage\u001b[0m\u001b[0;34m,\u001b[0m \u001b[0mignore_extension\u001b[0m\u001b[0;34m\u001b[0m\u001b[0;34m\u001b[0m\u001b[0m\n\u001b[0;32m--> 503\u001b[0;31m     \u001b[0;32mreturn\u001b[0m \u001b[0mopen\u001b[0m\u001b[0;34m(\u001b[0m\u001b[0;34m**\u001b[0m\u001b[0mlocals\u001b[0m\u001b[0;34m(\u001b[0m\u001b[0;34m)\u001b[0m\u001b[0;34m)\u001b[0m\u001b[0;34m\u001b[0m\u001b[0;34m\u001b[0m\u001b[0m\n\u001b[0m\u001b[1;32m    504\u001b[0m \u001b[0;34m\u001b[0m\u001b[0m\n\u001b[1;32m    505\u001b[0m \u001b[0;34m\u001b[0m\u001b[0m\n",
            "\u001b[0;32m/usr/local/lib/python3.8/dist-packages/smart_open/smart_open_lib.py\u001b[0m in \u001b[0;36mopen\u001b[0;34m(uri, mode, buffering, encoding, errors, newline, closefd, opener, compression, transport_params)\u001b[0m\n\u001b[1;32m    175\u001b[0m         \u001b[0mtransport_params\u001b[0m \u001b[0;34m=\u001b[0m \u001b[0;34m{\u001b[0m\u001b[0;34m}\u001b[0m\u001b[0;34m\u001b[0m\u001b[0;34m\u001b[0m\u001b[0m\n\u001b[1;32m    176\u001b[0m \u001b[0;34m\u001b[0m\u001b[0m\n\u001b[0;32m--> 177\u001b[0;31m     fobj = _shortcut_open(\n\u001b[0m\u001b[1;32m    178\u001b[0m         \u001b[0muri\u001b[0m\u001b[0;34m,\u001b[0m\u001b[0;34m\u001b[0m\u001b[0;34m\u001b[0m\u001b[0m\n\u001b[1;32m    179\u001b[0m         \u001b[0mmode\u001b[0m\u001b[0;34m,\u001b[0m\u001b[0;34m\u001b[0m\u001b[0;34m\u001b[0m\u001b[0m\n",
            "\u001b[0;32m/usr/local/lib/python3.8/dist-packages/smart_open/smart_open_lib.py\u001b[0m in \u001b[0;36m_shortcut_open\u001b[0;34m(uri, mode, compression, buffering, encoding, errors, newline)\u001b[0m\n\u001b[1;32m    361\u001b[0m         \u001b[0mopen_kwargs\u001b[0m\u001b[0;34m[\u001b[0m\u001b[0;34m'errors'\u001b[0m\u001b[0;34m]\u001b[0m \u001b[0;34m=\u001b[0m \u001b[0merrors\u001b[0m\u001b[0;34m\u001b[0m\u001b[0;34m\u001b[0m\u001b[0m\n\u001b[1;32m    362\u001b[0m \u001b[0;34m\u001b[0m\u001b[0m\n\u001b[0;32m--> 363\u001b[0;31m     \u001b[0;32mreturn\u001b[0m \u001b[0m_builtin_open\u001b[0m\u001b[0;34m(\u001b[0m\u001b[0mlocal_path\u001b[0m\u001b[0;34m,\u001b[0m \u001b[0mmode\u001b[0m\u001b[0;34m,\u001b[0m \u001b[0mbuffering\u001b[0m\u001b[0;34m=\u001b[0m\u001b[0mbuffering\u001b[0m\u001b[0;34m,\u001b[0m \u001b[0;34m**\u001b[0m\u001b[0mopen_kwargs\u001b[0m\u001b[0;34m)\u001b[0m\u001b[0;34m\u001b[0m\u001b[0;34m\u001b[0m\u001b[0m\n\u001b[0m\u001b[1;32m    364\u001b[0m \u001b[0;34m\u001b[0m\u001b[0m\n\u001b[1;32m    365\u001b[0m \u001b[0;34m\u001b[0m\u001b[0m\n",
            "\u001b[0;31mFileNotFoundError\u001b[0m: [Errno 2] No such file or directory: 'model.bin'"
          ]
        }
      ],
      "source": [
        "from flask_ngrok import run_with_ngrok\n",
        "run_with_ngrok(se.app) \n",
        "se.app.run()"
      ]
    },
    {
      "cell_type": "markdown",
      "metadata": {
        "id": "Na0MC_1nzDbi"
      },
      "source": [
        "# Testing your app\n",
        "\n",
        "Once your app is running you can query it. You can simply do that by navigating to the URL that ngrok gave you above or through code in a different python session. For example, once the frontend app is running, you can navigate to:\n",
        "http://YOUR_SERVER_DOMAIN/search?query=hello+world where YOUR_SERVER_DOMAIN is something like XXXX-XX-XX-XX-XX.ngrok.io, which is printed above in Colab or that is your external IP on GCP.\n",
        "\n",
        "The code below shows how to issue a query from python. This is also how our testing code will issue queries to your search engine, so make sure to test your search engine this way after you deploy it to GCP and before submission. Command line instructions for deploying your search engine to GCP are available at `run_frontend_in_gcp.sh`. Note that we will not only issue training queries to your search engine, but also test queries, i.e. queries that you've never seen before."
      ]
    },
    {
      "cell_type": "code",
      "execution_count": null,
      "metadata": {
        "id": "EM5ePrRHojbG"
      },
      "outputs": [],
      "source": [
        "import json\n",
        "\n",
        "with open('queries_train.json', 'rt') as f:\n",
        "  queries = json.load(f)"
      ]
    },
    {
      "cell_type": "code",
      "execution_count": null,
      "metadata": {
        "id": "gWimZWCOy3Ei"
      },
      "outputs": [],
      "source": [
        "def average_precision(true_list, predicted_list, k=40):\n",
        "    true_set = frozenset(true_list)\n",
        "    predicted_list = predicted_list[:k]\n",
        "    precisions = []\n",
        "    for i,doc_id in enumerate(predicted_list):        \n",
        "        if doc_id in true_set:\n",
        "            prec = (len(precisions)+1) / (i+1)            \n",
        "            precisions.append(prec)\n",
        "    if len(precisions) == 0:\n",
        "        return 0.0\n",
        "    return round(sum(precisions)/len(precisions),3)"
      ]
    },
    {
      "cell_type": "code",
      "execution_count": null,
      "metadata": {
        "id": "NqM4S4VnwiSN"
      },
      "outputs": [],
      "source": [
        "import numpy as np\n",
        "import random\n",
        "import requests\n",
        "from time import time\n",
        "from scipy.optimize import minimize\n",
        "\n",
        "url = 'http://34.27.134.71:8080'\n",
        "\n",
        "# Define a function to calculate the total AP for the current parameter values\n",
        "def calculate_ap(params):\n",
        "    ap_total = 0\n",
        "    for q, true_wids in queries.items():\n",
        "        try:\n",
        "            res = requests.get(url + '/search', {'query': q,'b':params[0],'k1':params[1],'k3':params[2],'k4':params[3],'k5':params[4]}, timeout=35)\n",
        "            if res.status_code == 200:\n",
        "                pred_wids, _ = zip(*res.json())\n",
        "                ap = average_precision(true_wids, pred_wids)\n",
        "                ap_total += ap\n",
        "        except:\n",
        "            pass\n",
        "    print(ap_total)\n",
        "    return -ap_total # negate because we want to maximize AP\n",
        "\n",
        "initial_guess_1 = [90, 1350, 8, 4.5, 30]\n",
        "initial_guess_2 = [80, 1250, 7, 4.0, 25]\n",
        "initial_guess_3 = [100, 1450, 9, 5.0, 35]\n",
        "\n",
        "res_1 = minimize(calculate_ap, initial_guess_1, method='BFGS')\n",
        "res_2 = minimize(calculate_ap, initial_guess_2, method='BFGS')\n",
        "res_3 = minimize(calculate_ap, initial_guess_3, method='BFGS')\n",
        "\n",
        "# Compare the results\n",
        "print(f'Initial guess 1: {res_1.x} - {res_1.fun}')\n",
        "print(f'Initial guess 2: {res_2.x} - {res_2.fun}')\n",
        "print(f'Initial guess 3: {res_3.x} - {res_3.fun}')\n",
        "\n"
      ]
    },
    {
      "cell_type": "code",
      "execution_count": null,
      "metadata": {
        "colab": {
          "base_uri": "https://localhost:8080/"
        },
        "id": "4QUHyFzzMDFr",
        "outputId": "2c7300c1-7b25-4d0f-c095-20be7e9dacdf"
      },
      "outputs": [
        {
          "name": "stdout",
          "output_type": "stream",
          "text": [
            "Looking in indexes: https://pypi.org/simple, https://us-python.pkg.dev/colab-wheels/public/simple/\n",
            "Requirement already satisfied: optuna in /usr/local/lib/python3.8/dist-packages (3.0.5)\n",
            "Requirement already satisfied: importlib-metadata<5.0.0 in /usr/local/lib/python3.8/dist-packages (from optuna) (4.13.0)\n",
            "Requirement already satisfied: cmaes>=0.8.2 in /usr/local/lib/python3.8/dist-packages (from optuna) (0.9.1)\n",
            "Requirement already satisfied: numpy in /usr/local/lib/python3.8/dist-packages (from optuna) (1.21.6)\n",
            "Requirement already satisfied: packaging>=20.0 in /usr/local/lib/python3.8/dist-packages (from optuna) (21.3)\n",
            "Requirement already satisfied: alembic>=1.5.0 in /usr/local/lib/python3.8/dist-packages (from optuna) (1.9.2)\n",
            "Requirement already satisfied: colorlog in /usr/local/lib/python3.8/dist-packages (from optuna) (6.7.0)\n",
            "Requirement already satisfied: tqdm in /usr/local/lib/python3.8/dist-packages (from optuna) (4.64.1)\n",
            "Requirement already satisfied: sqlalchemy>=1.3.0 in /usr/local/lib/python3.8/dist-packages (from optuna) (1.4.46)\n",
            "Requirement already satisfied: PyYAML in /usr/local/lib/python3.8/dist-packages (from optuna) (6.0)\n",
            "Requirement already satisfied: cliff in /usr/local/lib/python3.8/dist-packages (from optuna) (4.1.0)\n",
            "Requirement already satisfied: scipy<1.9.0,>=1.7.0 in /usr/local/lib/python3.8/dist-packages (from optuna) (1.7.3)\n",
            "Requirement already satisfied: Mako in /usr/local/lib/python3.8/dist-packages (from alembic>=1.5.0->optuna) (1.2.4)\n",
            "Requirement already satisfied: importlib-resources in /usr/local/lib/python3.8/dist-packages (from alembic>=1.5.0->optuna) (5.10.2)\n",
            "Requirement already satisfied: zipp>=0.5 in /usr/local/lib/python3.8/dist-packages (from importlib-metadata<5.0.0->optuna) (3.11.0)\n",
            "Requirement already satisfied: pyparsing!=3.0.5,>=2.0.2 in /usr/local/lib/python3.8/dist-packages (from packaging>=20.0->optuna) (3.0.9)\n",
            "Requirement already satisfied: greenlet!=0.4.17 in /usr/local/lib/python3.8/dist-packages (from sqlalchemy>=1.3.0->optuna) (2.0.1)\n",
            "Requirement already satisfied: PrettyTable>=0.7.2 in /usr/local/lib/python3.8/dist-packages (from cliff->optuna) (3.5.0)\n",
            "Requirement already satisfied: autopage>=0.4.0 in /usr/local/lib/python3.8/dist-packages (from cliff->optuna) (0.5.1)\n",
            "Requirement already satisfied: stevedore>=2.0.1 in /usr/local/lib/python3.8/dist-packages (from cliff->optuna) (4.1.1)\n",
            "Requirement already satisfied: cmd2>=1.0.0 in /usr/local/lib/python3.8/dist-packages (from cliff->optuna) (2.4.2)\n",
            "Requirement already satisfied: pyperclip>=1.6 in /usr/local/lib/python3.8/dist-packages (from cmd2>=1.0.0->cliff->optuna) (1.8.2)\n",
            "Requirement already satisfied: wcwidth>=0.1.7 in /usr/local/lib/python3.8/dist-packages (from cmd2>=1.0.0->cliff->optuna) (0.2.5)\n",
            "Requirement already satisfied: attrs>=16.3.0 in /usr/local/lib/python3.8/dist-packages (from cmd2>=1.0.0->cliff->optuna) (22.2.0)\n",
            "Requirement already satisfied: pbr!=2.1.0,>=2.0.0 in /usr/local/lib/python3.8/dist-packages (from stevedore>=2.0.1->cliff->optuna) (5.11.1)\n",
            "Requirement already satisfied: MarkupSafe>=0.9.2 in /usr/local/lib/python3.8/dist-packages (from Mako->alembic>=1.5.0->optuna) (2.0.1)\n"
          ]
        }
      ],
      "source": [
        "!pip install optuna\n"
      ]
    },
    {
      "cell_type": "code",
      "execution_count": null,
      "metadata": {
        "colab": {
          "background_save": true,
          "base_uri": "https://localhost:8080/"
        },
        "id": "CTR_GTDKKZvv",
        "outputId": "4d789dd6-dc1d-4b17-a33a-3d13e1be780e"
      },
      "outputs": [
        {
          "name": "stderr",
          "output_type": "stream",
          "text": [
            "\u001b[32m[I 2023-01-15 15:48:55,812]\u001b[0m A new study created in memory with name: no-name-c70e91d4-164f-49e9-ae0d-f9b95766408f\u001b[0m\n",
            "<ipython-input-4-0d77c8b8b547>:13: FutureWarning: suggest_uniform has been deprecated in v3.0.0. This feature will be removed in v6.0.0. See https://github.com/optuna/optuna/releases/tag/v3.0.0. Use :func:`~optuna.trial.Trial.suggest_float` instead.\n",
            "  b = trial.suggest_uniform('b', 50, 150)\n",
            "<ipython-input-4-0d77c8b8b547>:14: FutureWarning: suggest_uniform has been deprecated in v3.0.0. This feature will be removed in v6.0.0. See https://github.com/optuna/optuna/releases/tag/v3.0.0. Use :func:`~optuna.trial.Trial.suggest_float` instead.\n",
            "  k1 = trial.suggest_uniform('k1', 1000, 1500)\n",
            "<ipython-input-4-0d77c8b8b547>:15: FutureWarning: suggest_uniform has been deprecated in v3.0.0. This feature will be removed in v6.0.0. See https://github.com/optuna/optuna/releases/tag/v3.0.0. Use :func:`~optuna.trial.Trial.suggest_float` instead.\n",
            "  k3 = trial.suggest_uniform('k3', 5, 10)\n",
            "<ipython-input-4-0d77c8b8b547>:16: FutureWarning: suggest_uniform has been deprecated in v3.0.0. This feature will be removed in v6.0.0. See https://github.com/optuna/optuna/releases/tag/v3.0.0. Use :func:`~optuna.trial.Trial.suggest_float` instead.\n",
            "  k4 = trial.suggest_uniform('k4', 3, 5)\n",
            "<ipython-input-4-0d77c8b8b547>:17: FutureWarning: suggest_uniform has been deprecated in v3.0.0. This feature will be removed in v6.0.0. See https://github.com/optuna/optuna/releases/tag/v3.0.0. Use :func:`~optuna.trial.Trial.suggest_float` instead.\n",
            "  k5 = trial.suggest_uniform('k5', 20, 40)\n",
            "<ipython-input-4-0d77c8b8b547>:18: FutureWarning: suggest_uniform has been deprecated in v3.0.0. This feature will be removed in v6.0.0. See https://github.com/optuna/optuna/releases/tag/v3.0.0. Use :func:`~optuna.trial.Trial.suggest_float` instead.\n",
            "  pv=trial.suggest_uniform('pv', 1,2)\n",
            "<ipython-input-4-0d77c8b8b547>:19: FutureWarning: suggest_uniform has been deprecated in v3.0.0. This feature will be removed in v6.0.0. See https://github.com/optuna/optuna/releases/tag/v3.0.0. Use :func:`~optuna.trial.Trial.suggest_float` instead.\n",
            "  pr=trial.suggest_uniform('pr', 0.1,0.7)\n",
            "\u001b[32m[I 2023-01-15 15:50:29,157]\u001b[0m Trial 0 finished with value: -18.427999999999997 and parameters: {'b': 119.96044879029097, 'k1': 1322.1374621795574, 'k3': 5.176876506799044, 'k4': 3.5410459581419618, 'k5': 22.532376366838825, 'pv': 1.1913373964113663, 'pr': 0.6926713931197841}. Best is trial 0 with value: -18.427999999999997.\u001b[0m\n"
          ]
        },
        {
          "name": "stdout",
          "output_type": "stream",
          "text": [
            "18.427999999999997\n",
            "119.96044879029097 1322.1374621795574 5.176876506799044 3.5410459581419618 22.532376366838825\n"
          ]
        },
        {
          "name": "stderr",
          "output_type": "stream",
          "text": [
            "\u001b[32m[I 2023-01-15 15:52:03,469]\u001b[0m Trial 1 finished with value: -17.548999999999996 and parameters: {'b': 98.08172676637072, 'k1': 1133.9088951813621, 'k3': 9.433776529441095, 'k4': 4.98083553572758, 'k5': 25.521676314613195, 'pv': 1.353791688360574, 'pr': 0.2857886134018864}. Best is trial 0 with value: -18.427999999999997.\u001b[0m\n"
          ]
        },
        {
          "name": "stdout",
          "output_type": "stream",
          "text": [
            "17.548999999999996\n",
            "98.08172676637072 1133.9088951813621 9.433776529441095 4.98083553572758 25.521676314613195\n"
          ]
        },
        {
          "name": "stderr",
          "output_type": "stream",
          "text": [
            "\u001b[32m[I 2023-01-15 15:53:36,956]\u001b[0m Trial 2 finished with value: -17.436 and parameters: {'b': 128.37971809862313, 'k1': 1270.203643754613, 'k3': 8.792417786060248, 'k4': 4.325525516165804, 'k5': 37.07064279532851, 'pv': 1.6189025947345446, 'pr': 0.24593883240472098}. Best is trial 0 with value: -18.427999999999997.\u001b[0m\n"
          ]
        },
        {
          "name": "stdout",
          "output_type": "stream",
          "text": [
            "17.436\n",
            "128.37971809862313 1270.203643754613 8.792417786060248 4.325525516165804 37.07064279532851\n"
          ]
        },
        {
          "name": "stderr",
          "output_type": "stream",
          "text": [
            "\u001b[32m[I 2023-01-15 15:55:11,236]\u001b[0m Trial 3 finished with value: -18.299000000000003 and parameters: {'b': 83.33952083884512, 'k1': 1350.3250005937064, 'k3': 6.276333332013692, 'k4': 4.373949076321602, 'k5': 27.982768120277875, 'pv': 1.5275608720294467, 'pr': 0.2851805282771546}. Best is trial 0 with value: -18.427999999999997.\u001b[0m\n"
          ]
        },
        {
          "name": "stdout",
          "output_type": "stream",
          "text": [
            "18.299000000000003\n",
            "83.33952083884512 1350.3250005937064 6.276333332013692 4.373949076321602 27.982768120277875\n"
          ]
        },
        {
          "name": "stderr",
          "output_type": "stream",
          "text": [
            "\u001b[32m[I 2023-01-15 15:56:47,732]\u001b[0m Trial 4 finished with value: -17.301999999999992 and parameters: {'b': 92.59158366498995, 'k1': 1224.6877670478425, 'k3': 6.153569761369445, 'k4': 3.532401046711755, 'k5': 21.42010116972604, 'pv': 1.4290816402895694, 'pr': 0.4001202658288392}. Best is trial 0 with value: -18.427999999999997.\u001b[0m\n"
          ]
        },
        {
          "name": "stdout",
          "output_type": "stream",
          "text": [
            "17.301999999999992\n",
            "92.59158366498995 1224.6877670478425 6.153569761369445 3.532401046711755 21.42010116972604\n"
          ]
        },
        {
          "name": "stderr",
          "output_type": "stream",
          "text": [
            "\u001b[32m[I 2023-01-15 15:58:23,371]\u001b[0m Trial 5 finished with value: -15.280999999999995 and parameters: {'b': 60.929952672902665, 'k1': 1213.2734887330985, 'k3': 9.271557259931567, 'k4': 3.751081620539444, 'k5': 36.288129566717956, 'pv': 1.3763110778794614, 'pr': 0.32076972303467305}. Best is trial 0 with value: -18.427999999999997.\u001b[0m\n"
          ]
        },
        {
          "name": "stdout",
          "output_type": "stream",
          "text": [
            "15.280999999999995\n",
            "60.929952672902665 1213.2734887330985 9.271557259931567 3.751081620539444 36.288129566717956\n"
          ]
        },
        {
          "name": "stderr",
          "output_type": "stream",
          "text": [
            "\u001b[32m[I 2023-01-15 15:59:58,296]\u001b[0m Trial 6 finished with value: -17.349 and parameters: {'b': 121.76359848240648, 'k1': 1334.8610747484092, 'k3': 7.696067856111789, 'k4': 4.333921444676676, 'k5': 22.013816328333405, 'pv': 1.8333220356997293, 'pr': 0.5852219635259354}. Best is trial 0 with value: -18.427999999999997.\u001b[0m\n"
          ]
        },
        {
          "name": "stdout",
          "output_type": "stream",
          "text": [
            "17.349\n",
            "121.76359848240648 1334.8610747484092 7.696067856111789 4.333921444676676 22.013816328333405\n"
          ]
        },
        {
          "name": "stderr",
          "output_type": "stream",
          "text": [
            "\u001b[32m[I 2023-01-15 16:01:32,878]\u001b[0m Trial 7 finished with value: -16.590999999999998 and parameters: {'b': 146.39661741669755, 'k1': 1084.932342831459, 'k3': 8.334278226131016, 'k4': 3.555071472064353, 'k5': 26.50321505076284, 'pv': 1.1275276335059732, 'pr': 0.492747725164276}. Best is trial 0 with value: -18.427999999999997.\u001b[0m\n"
          ]
        },
        {
          "name": "stdout",
          "output_type": "stream",
          "text": [
            "16.590999999999998\n",
            "146.39661741669755 1084.932342831459 8.334278226131016 3.555071472064353 26.50321505076284\n"
          ]
        },
        {
          "name": "stderr",
          "output_type": "stream",
          "text": [
            "\u001b[32m[I 2023-01-15 16:03:07,659]\u001b[0m Trial 8 finished with value: -17.496999999999993 and parameters: {'b': 110.69520017628932, 'k1': 1297.88500090709, 'k3': 9.549469190128104, 'k4': 4.803633918811293, 'k5': 24.696016446337374, 'pv': 1.5527924110020686, 'pr': 0.34338094289226573}. Best is trial 0 with value: -18.427999999999997.\u001b[0m\n"
          ]
        },
        {
          "name": "stdout",
          "output_type": "stream",
          "text": [
            "17.496999999999993\n",
            "110.69520017628932 1297.88500090709 9.549469190128104 4.803633918811293 24.696016446337374\n"
          ]
        },
        {
          "name": "stderr",
          "output_type": "stream",
          "text": [
            "\u001b[32m[I 2023-01-15 16:04:42,880]\u001b[0m Trial 9 finished with value: -16.575 and parameters: {'b': 71.87568846331786, 'k1': 1137.5460114815837, 'k3': 8.961895593927144, 'k4': 3.8709971930340537, 'k5': 34.65993078055405, 'pv': 1.4720021487265236, 'pr': 0.5935535437398133}. Best is trial 0 with value: -18.427999999999997.\u001b[0m\n"
          ]
        },
        {
          "name": "stdout",
          "output_type": "stream",
          "text": [
            "16.575\n",
            "71.87568846331786 1137.5460114815837 8.961895593927144 3.8709971930340537 34.65993078055405\n"
          ]
        },
        {
          "name": "stderr",
          "output_type": "stream",
          "text": [
            "\u001b[32m[I 2023-01-15 16:06:18,635]\u001b[0m Trial 10 finished with value: -18.680999999999997 and parameters: {'b': 149.75325299811348, 'k1': 1488.9673480162273, 'k3': 5.046778296691582, 'k4': 3.1494477192555497, 'k5': 32.16211550318529, 'pv': 1.0061862039686693, 'pr': 0.6983776894282363}. Best is trial 10 with value: -18.680999999999997.\u001b[0m\n"
          ]
        },
        {
          "name": "stdout",
          "output_type": "stream",
          "text": [
            "18.680999999999997\n",
            "149.75325299811348 1488.9673480162273 5.046778296691582 3.1494477192555497 32.16211550318529\n"
          ]
        },
        {
          "name": "stderr",
          "output_type": "stream",
          "text": [
            "\u001b[32m[I 2023-01-15 16:07:54,559]\u001b[0m Trial 11 finished with value: -19.039999999999996 and parameters: {'b': 148.1766086236274, 'k1': 1456.7075281850375, 'k3': 5.31166512201297, 'k4': 3.060415838846788, 'k5': 31.073492375797603, 'pv': 1.0095267034441522, 'pr': 0.6956711328522666}. Best is trial 11 with value: -19.039999999999996.\u001b[0m\n"
          ]
        },
        {
          "name": "stdout",
          "output_type": "stream",
          "text": [
            "19.039999999999996\n",
            "148.1766086236274 1456.7075281850375 5.31166512201297 3.060415838846788 31.073492375797603\n"
          ]
        },
        {
          "name": "stderr",
          "output_type": "stream",
          "text": [
            "\u001b[32m[I 2023-01-15 16:09:30,483]\u001b[0m Trial 12 finished with value: -18.569999999999993 and parameters: {'b': 145.45838764535438, 'k1': 1476.4679160282808, 'k3': 5.043449404501727, 'k4': 3.07020879191178, 'k5': 31.638687705740836, 'pv': 1.010416728926032, 'pr': 0.14171310702160833}. Best is trial 11 with value: -19.039999999999996.\u001b[0m\n"
          ]
        },
        {
          "name": "stdout",
          "output_type": "stream",
          "text": [
            "18.569999999999993\n",
            "145.45838764535438 1476.4679160282808 5.043449404501727 3.07020879191178 31.638687705740836\n"
          ]
        },
        {
          "name": "stderr",
          "output_type": "stream",
          "text": [
            "\u001b[32m[I 2023-01-15 16:11:06,737]\u001b[0m Trial 13 finished with value: -17.567999999999998 and parameters: {'b': 135.2664654910612, 'k1': 1485.2200371636552, 'k3': 6.180008523016295, 'k4': 3.0959543348473777, 'k5': 31.735233501820332, 'pv': 1.0189026333488431, 'pr': 0.6914814969539249}. Best is trial 11 with value: -19.039999999999996.\u001b[0m\n"
          ]
        },
        {
          "name": "stdout",
          "output_type": "stream",
          "text": [
            "17.567999999999998\n",
            "135.2664654910612 1485.2200371636552 6.180008523016295 3.0959543348473777 31.735233501820332\n"
          ]
        },
        {
          "name": "stderr",
          "output_type": "stream",
          "text": [
            "\u001b[32m[I 2023-01-15 16:12:42,407]\u001b[0m Trial 14 finished with value: -17.078 and parameters: {'b': 145.54658758510513, 'k1': 1414.7573265376107, 'k3': 6.914374146675657, 'k4': 3.2675497927479156, 'k5': 30.033997691413454, 'pv': 1.2149253727471647, 'pr': 0.5865553843562239}. Best is trial 11 with value: -19.039999999999996.\u001b[0m\n"
          ]
        },
        {
          "name": "stdout",
          "output_type": "stream",
          "text": [
            "17.078\n",
            "145.54658758510513 1414.7573265376107 6.914374146675657 3.2675497927479156 30.033997691413454\n"
          ]
        },
        {
          "name": "stderr",
          "output_type": "stream",
          "text": [
            "\u001b[32m[I 2023-01-15 16:14:18,413]\u001b[0m Trial 15 finished with value: -17.582 and parameters: {'b': 112.56180146227513, 'k1': 1408.8486009875578, 'k3': 5.586304646380844, 'k4': 3.3028477056346635, 'k5': 33.654443333711086, 'pv': 1.8954415000688718, 'pr': 0.4977563305370184}. Best is trial 11 with value: -19.039999999999996.\u001b[0m\n"
          ]
        },
        {
          "name": "stdout",
          "output_type": "stream",
          "text": [
            "17.582\n",
            "112.56180146227513 1408.8486009875578 5.586304646380844 3.3028477056346635 33.654443333711086\n"
          ]
        },
        {
          "name": "stderr",
          "output_type": "stream",
          "text": [
            "\u001b[32m[I 2023-01-15 16:15:54,113]\u001b[0m Trial 16 finished with value: -17.658999999999995 and parameters: {'b': 134.5579309203356, 'k1': 1410.0972824133135, 'k3': 5.492152162185741, 'k4': 3.307662450876496, 'k5': 39.991301733645145, 'pv': 1.7008396918515893, 'pr': 0.6371539635079468}. Best is trial 11 with value: -19.039999999999996.\u001b[0m\n"
          ]
        },
        {
          "name": "stdout",
          "output_type": "stream",
          "text": [
            "17.658999999999995\n",
            "134.5579309203356 1410.0972824133135 5.492152162185741 3.307662450876496 39.991301733645145\n"
          ]
        },
        {
          "name": "stderr",
          "output_type": "stream",
          "text": [
            "\u001b[32m[I 2023-01-15 16:17:28,513]\u001b[0m Trial 17 finished with value: -17.459999999999997 and parameters: {'b': 149.2246541344044, 'k1': 1457.3791473361844, 'k3': 7.382738086487034, 'k4': 3.022361109180411, 'k5': 29.23124775512552, 'pv': 1.2767567937142021, 'pr': 0.45238538053803834}. Best is trial 11 with value: -19.039999999999996.\u001b[0m\n"
          ]
        },
        {
          "name": "stdout",
          "output_type": "stream",
          "text": [
            "17.459999999999997\n",
            "149.2246541344044 1457.3791473361844 7.382738086487034 3.022361109180411 29.23124775512552\n"
          ]
        },
        {
          "name": "stderr",
          "output_type": "stream",
          "text": [
            "\u001b[32m[I 2023-01-15 16:19:02,153]\u001b[0m Trial 18 finished with value: -16.933 and parameters: {'b': 51.71371907015121, 'k1': 1372.3252062286283, 'k3': 6.90180439596562, 'k4': 4.112533267366446, 'k5': 32.367594173169294, 'pv': 1.100348377149243, 'pr': 0.5333760715985121}. Best is trial 11 with value: -19.039999999999996.\u001b[0m\n"
          ]
        },
        {
          "name": "stdout",
          "output_type": "stream",
          "text": [
            "16.933\n",
            "51.71371907015121 1372.3252062286283 6.90180439596562 4.112533267366446 32.367594173169294\n"
          ]
        },
        {
          "name": "stderr",
          "output_type": "stream",
          "text": [
            "\u001b[32m[I 2023-01-15 16:20:35,580]\u001b[0m Trial 19 finished with value: -18.138 and parameters: {'b': 135.05085888691218, 'k1': 1497.7283008141653, 'k3': 5.761570491632719, 'k4': 3.6918976341030127, 'k5': 29.842251533816054, 'pv': 1.2725127429376781, 'pr': 0.6457902451728535}. Best is trial 11 with value: -19.039999999999996.\u001b[0m\n"
          ]
        },
        {
          "name": "stdout",
          "output_type": "stream",
          "text": [
            "18.138\n",
            "135.05085888691218 1497.7283008141653 5.761570491632719 3.6918976341030127 29.842251533816054\n"
          ]
        },
        {
          "name": "stderr",
          "output_type": "stream",
          "text": [
            "\u001b[32m[I 2023-01-15 16:22:09,859]\u001b[0m Trial 20 finished with value: -17.891 and parameters: {'b': 113.06682682737362, 'k1': 1009.4781294771369, 'k3': 6.722790872119031, 'k4': 3.2845161430927177, 'k5': 38.24292623108606, 'pv': 1.0950973743547046, 'pr': 0.6997360366671298}. Best is trial 11 with value: -19.039999999999996.\u001b[0m\n"
          ]
        },
        {
          "name": "stdout",
          "output_type": "stream",
          "text": [
            "17.891\n",
            "113.06682682737362 1009.4781294771369 6.722790872119031 3.2845161430927177 38.24292623108606\n"
          ]
        },
        {
          "name": "stderr",
          "output_type": "stream",
          "text": [
            "\u001b[32m[I 2023-01-15 16:23:44,056]\u001b[0m Trial 21 finished with value: -18.570999999999998 and parameters: {'b': 138.9276530647324, 'k1': 1447.7933201240146, 'k3': 5.032344605125557, 'k4': 3.006693482948926, 'k5': 32.05607426579816, 'pv': 1.0007586661935655, 'pr': 0.12930466144164482}. Best is trial 11 with value: -19.039999999999996.\u001b[0m\n"
          ]
        },
        {
          "name": "stdout",
          "output_type": "stream",
          "text": [
            "18.570999999999998\n",
            "138.9276530647324 1447.7933201240146 5.032344605125557 3.006693482948926 32.05607426579816\n"
          ]
        },
        {
          "name": "stderr",
          "output_type": "stream",
          "text": [
            "\u001b[32m[I 2023-01-15 16:25:17,889]\u001b[0m Trial 22 finished with value: -18.595 and parameters: {'b': 138.5543880161, 'k1': 1439.7407418462535, 'k3': 5.059673263093546, 'k4': 3.0166671436682635, 'k5': 34.49936806901351, 'pv': 1.0238483375757341, 'pr': 0.2144401362278699}. Best is trial 11 with value: -19.039999999999996.\u001b[0m\n"
          ]
        },
        {
          "name": "stdout",
          "output_type": "stream",
          "text": [
            "18.595\n",
            "138.5543880161 1439.7407418462535 5.059673263093546 3.0166671436682635 34.49936806901351\n"
          ]
        },
        {
          "name": "stderr",
          "output_type": "stream",
          "text": [
            "\u001b[32m[I 2023-01-15 16:26:52,111]\u001b[0m Trial 23 finished with value: -17.392999999999997 and parameters: {'b': 128.28675649952385, 'k1': 1381.371254238203, 'k3': 5.837256979265303, 'k4': 3.2013618082730115, 'k5': 34.552629927699854, 'pv': 1.1447540249646275, 'pr': 0.20133568712514127}. Best is trial 11 with value: -19.039999999999996.\u001b[0m\n"
          ]
        },
        {
          "name": "stdout",
          "output_type": "stream",
          "text": [
            "17.392999999999997\n",
            "128.28675649952385 1381.371254238203 5.837256979265303 3.2013618082730115 34.552629927699854\n"
          ]
        },
        {
          "name": "stderr",
          "output_type": "stream",
          "text": [
            "\u001b[32m[I 2023-01-15 16:28:26,479]\u001b[0m Trial 24 finished with value: -17.828999999999997 and parameters: {'b': 140.65782837929203, 'k1': 1445.7859482949955, 'k3': 5.488630323440022, 'k4': 3.4078297056225826, 'k5': 35.580636537666905, 'pv': 1.0700748078986453, 'pr': 0.38837403978135454}. Best is trial 11 with value: -19.039999999999996.\u001b[0m\n"
          ]
        },
        {
          "name": "stdout",
          "output_type": "stream",
          "text": [
            "17.828999999999997\n",
            "140.65782837929203 1445.7859482949955 5.488630323440022 3.4078297056225826 35.580636537666905\n"
          ]
        },
        {
          "name": "stderr",
          "output_type": "stream",
          "text": [
            "\u001b[32m[I 2023-01-15 16:30:01,242]\u001b[0m Trial 25 finished with value: -17.938000000000002 and parameters: {'b': 127.61598331959726, 'k1': 1434.9412168346805, 'k3': 6.534156294522136, 'k4': 3.4704964974568258, 'k5': 34.12686292379887, 'pv': 1.2272479221418053, 'pr': 0.19819813099698796}. Best is trial 11 with value: -19.039999999999996.\u001b[0m\n"
          ]
        },
        {
          "name": "stdout",
          "output_type": "stream",
          "text": [
            "17.938000000000002\n",
            "127.61598331959726 1434.9412168346805 6.534156294522136 3.4704964974568258 34.12686292379887\n"
          ]
        },
        {
          "name": "stderr",
          "output_type": "stream",
          "text": [
            "\u001b[32m[I 2023-01-15 16:31:35,302]\u001b[0m Trial 26 finished with value: -18.621000000000002 and parameters: {'b': 149.87611168517222, 'k1': 1498.7589702347875, 'k3': 5.324858350691558, 'k4': 3.167774520739501, 'k5': 28.41319439888267, 'pv': 1.307816242679826, 'pr': 0.6357148026212001}. Best is trial 11 with value: -19.039999999999996.\u001b[0m\n"
          ]
        },
        {
          "name": "stdout",
          "output_type": "stream",
          "text": [
            "18.621000000000002\n",
            "149.87611168517222 1498.7589702347875 5.324858350691558 3.167774520739501 28.41319439888267\n"
          ]
        },
        {
          "name": "stderr",
          "output_type": "stream",
          "text": [
            "\u001b[32m[I 2023-01-15 16:33:08,608]\u001b[0m Trial 27 finished with value: -18.900999999999996 and parameters: {'b': 149.53279952607969, 'k1': 1499.133625529218, 'k3': 5.759971319759215, 'k4': 4.0586504043503835, 'k5': 28.23982147083573, 'pv': 1.3301354058603, 'pr': 0.6378643595423534}. Best is trial 11 with value: -19.039999999999996.\u001b[0m\n"
          ]
        },
        {
          "name": "stdout",
          "output_type": "stream",
          "text": [
            "18.900999999999996\n",
            "149.53279952607969 1499.133625529218 5.759971319759215 4.0586504043503835 28.23982147083573\n"
          ]
        },
        {
          "name": "stderr",
          "output_type": "stream",
          "text": [
            "\u001b[32m[I 2023-01-15 16:34:42,605]\u001b[0m Trial 28 finished with value: -17.822 and parameters: {'b': 104.70850742260845, 'k1': 1378.9024203780218, 'k3': 5.873427311229994, 'k4': 4.053076797082345, 'k5': 27.40906646614104, 'pv': 1.667216943859777, 'pr': 0.5479503515823296}. Best is trial 11 with value: -19.039999999999996.\u001b[0m\n"
          ]
        },
        {
          "name": "stdout",
          "output_type": "stream",
          "text": [
            "17.822\n",
            "104.70850742260845 1378.9024203780218 5.873427311229994 4.053076797082345 27.40906646614104\n"
          ]
        },
        {
          "name": "stderr",
          "output_type": "stream",
          "text": [
            "\u001b[32m[I 2023-01-15 16:36:17,813]\u001b[0m Trial 29 finished with value: -17.641000000000002 and parameters: {'b': 121.23040162265744, 'k1': 1303.6143981382577, 'k3': 7.340164564622262, 'k4': 4.201829525732225, 'k5': 23.36363447748298, 'pv': 1.178082580330178, 'pr': 0.6625661378918856}. Best is trial 11 with value: -19.039999999999996.\u001b[0m\n"
          ]
        },
        {
          "name": "stdout",
          "output_type": "stream",
          "text": [
            "17.641000000000002\n",
            "121.23040162265744 1303.6143981382577 7.340164564622262 4.201829525732225 23.36363447748298\n"
          ]
        },
        {
          "name": "stderr",
          "output_type": "stream",
          "text": [
            "\u001b[32m[I 2023-01-15 16:37:53,071]\u001b[0m Trial 30 finished with value: -17.484999999999996 and parameters: {'b': 126.97326956766491, 'k1': 1473.0460687967263, 'k3': 9.913512846981554, 'k4': 3.8732397026192844, 'k5': 30.9297514289691, 'pv': 1.199804774426045, 'pr': 0.6708983209552902}. Best is trial 11 with value: -19.039999999999996.\u001b[0m\n"
          ]
        },
        {
          "name": "stdout",
          "output_type": "stream",
          "text": [
            "17.484999999999996\n",
            "126.97326956766491 1473.0460687967263 9.913512846981554 3.8732397026192844 30.9297514289691\n"
          ]
        },
        {
          "name": "stderr",
          "output_type": "stream",
          "text": [
            "\u001b[32m[I 2023-01-15 16:39:27,950]\u001b[0m Trial 31 finished with value: -18.623 and parameters: {'b': 149.449035877267, 'k1': 1489.3917055932704, 'k3': 5.352542231524333, 'k4': 3.1646668366113673, 'k5': 28.38671348233716, 'pv': 1.3350123531678286, 'pr': 0.6189788078736771}. Best is trial 11 with value: -19.039999999999996.\u001b[0m\n"
          ]
        },
        {
          "name": "stdout",
          "output_type": "stream",
          "text": [
            "18.623\n",
            "149.449035877267 1489.3917055932704 5.352542231524333 3.1646668366113673 28.38671348233716\n"
          ]
        },
        {
          "name": "stderr",
          "output_type": "stream",
          "text": [
            "\u001b[32m[I 2023-01-15 16:41:02,035]\u001b[0m Trial 32 finished with value: -18.663000000000004 and parameters: {'b': 141.5377354311953, 'k1': 1498.4026047522837, 'k3': 5.329732162966822, 'k4': 4.582737337364407, 'k5': 26.319532011794642, 'pv': 1.3595238826078262, 'pr': 0.6034317359401791}. Best is trial 11 with value: -19.039999999999996.\u001b[0m\n"
          ]
        },
        {
          "name": "stdout",
          "output_type": "stream",
          "text": [
            "18.663000000000004\n",
            "141.5377354311953 1498.4026047522837 5.329732162966822 4.582737337364407 26.319532011794642\n"
          ]
        },
        {
          "name": "stderr",
          "output_type": "stream",
          "text": [
            "\u001b[32m[I 2023-01-15 16:42:36,590]\u001b[0m Trial 33 finished with value: -18.703 and parameters: {'b': 143.00252192845883, 'k1': 1413.7951315521054, 'k3': 6.021748617911815, 'k4': 4.57908367858769, 'k5': 25.856976955096886, 'pv': 1.423010665677915, 'pr': 0.5535227282132618}. Best is trial 11 with value: -19.039999999999996.\u001b[0m\n"
          ]
        },
        {
          "name": "stdout",
          "output_type": "stream",
          "text": [
            "18.703\n",
            "143.00252192845883 1413.7951315521054 6.021748617911815 4.57908367858769 25.856976955096886\n"
          ]
        },
        {
          "name": "stderr",
          "output_type": "stream",
          "text": [
            "\u001b[32m[I 2023-01-15 16:44:09,523]\u001b[0m Trial 34 finished with value: -18.533 and parameters: {'b': 132.04307392193368, 'k1': 1415.7576241140482, 'k3': 6.012151857588292, 'k4': 4.549531727437678, 'k5': 24.941723901507228, 'pv': 1.5755536701935258, 'pr': 0.5459518294879682}. Best is trial 11 with value: -19.039999999999996.\u001b[0m\n"
          ]
        },
        {
          "name": "stdout",
          "output_type": "stream",
          "text": [
            "18.533\n",
            "132.04307392193368 1415.7576241140482 6.012151857588292 4.549531727437678 24.941723901507228\n"
          ]
        },
        {
          "name": "stderr",
          "output_type": "stream",
          "text": [
            "\u001b[32m[I 2023-01-15 16:45:42,249]\u001b[0m Trial 35 finished with value: -18.728999999999996 and parameters: {'b': 142.28367319034004, 'k1': 1369.5206500956026, 'k3': 6.397033316623165, 'k4': 4.787686532994083, 'k5': 23.36832365151072, 'pv': 1.446602749046369, 'pr': 0.6732810376704954}. Best is trial 11 with value: -19.039999999999996.\u001b[0m\n"
          ]
        },
        {
          "name": "stdout",
          "output_type": "stream",
          "text": [
            "18.728999999999996\n",
            "142.28367319034004 1369.5206500956026 6.397033316623165 4.787686532994083 23.36832365151072\n"
          ]
        },
        {
          "name": "stderr",
          "output_type": "stream",
          "text": [
            "\u001b[32m[I 2023-01-15 16:47:14,028]\u001b[0m Trial 36 finished with value: -18.540999999999997 and parameters: {'b': 141.69435239955, 'k1': 1354.0015937520936, 'k3': 6.414704011239378, 'k4': 4.924365048245244, 'k5': 24.673438608893303, 'pv': 1.4328408200070915, 'pr': 0.6614467359227172}. Best is trial 11 with value: -19.039999999999996.\u001b[0m\n"
          ]
        },
        {
          "name": "stdout",
          "output_type": "stream",
          "text": [
            "18.540999999999997\n",
            "141.69435239955 1354.0015937520936 6.414704011239378 4.924365048245244 24.673438608893303\n"
          ]
        },
        {
          "name": "stderr",
          "output_type": "stream",
          "text": [
            "\u001b[32m[I 2023-01-15 16:48:46,337]\u001b[0m Trial 37 finished with value: -18.195 and parameters: {'b': 95.94592258791955, 'k1': 1252.2486541270985, 'k3': 7.793371019919403, 'k4': 4.617721163489791, 'k5': 20.43773595961755, 'pv': 1.4935397525453955, 'pr': 0.5639839464993162}. Best is trial 11 with value: -19.039999999999996.\u001b[0m\n"
          ]
        },
        {
          "name": "stdout",
          "output_type": "stream",
          "text": [
            "18.195\n",
            "95.94592258791955 1252.2486541270985 7.793371019919403 4.617721163489791 20.43773595961755\n"
          ]
        },
        {
          "name": "stderr",
          "output_type": "stream",
          "text": [
            "\u001b[32m[I 2023-01-15 16:50:18,465]\u001b[0m Trial 38 finished with value: -17.664999999999996 and parameters: {'b': 89.31165270997894, 'k1': 1321.3509687186495, 'k3': 6.3531865777493275, 'k4': 4.739861621894567, 'k5': 22.96973485637752, 'pv': 1.4383565308666928, 'pr': 0.5129262097922072}. Best is trial 11 with value: -19.039999999999996.\u001b[0m\n"
          ]
        },
        {
          "name": "stdout",
          "output_type": "stream",
          "text": [
            "17.664999999999996\n",
            "89.31165270997894 1321.3509687186495 6.3531865777493275 4.739861621894567 22.96973485637752\n"
          ]
        },
        {
          "name": "stderr",
          "output_type": "stream",
          "text": [
            "\u001b[32m[I 2023-01-15 16:51:51,878]\u001b[0m Trial 39 finished with value: -18.022 and parameters: {'b': 119.64812798432783, 'k1': 1393.791064822665, 'k3': 7.145393645169731, 'k4': 4.392926817103675, 'k5': 26.98301196222781, 'pv': 1.612147263525583, 'pr': 0.4604319377929331}. Best is trial 11 with value: -19.039999999999996.\u001b[0m\n"
          ]
        },
        {
          "name": "stdout",
          "output_type": "stream",
          "text": [
            "18.022\n",
            "119.64812798432783 1393.791064822665 7.145393645169731 4.392926817103675 26.98301196222781\n"
          ]
        },
        {
          "name": "stderr",
          "output_type": "stream",
          "text": [
            "\u001b[32m[I 2023-01-15 16:53:23,876]\u001b[0m Trial 40 finished with value: -17.083 and parameters: {'b': 79.89804420220378, 'k1': 1195.7338516287846, 'k3': 6.132239212639771, 'k4': 4.453287337859223, 'k5': 23.313558121299543, 'pv': 1.7361334772385804, 'pr': 0.6196122854887276}. Best is trial 11 with value: -19.039999999999996.\u001b[0m\n"
          ]
        },
        {
          "name": "stdout",
          "output_type": "stream",
          "text": [
            "17.083\n",
            "79.89804420220378 1195.7338516287846 6.132239212639771 4.453287337859223 23.313558121299543\n"
          ]
        },
        {
          "name": "stderr",
          "output_type": "stream",
          "text": [
            "\u001b[32m[I 2023-01-15 16:54:56,084]\u001b[0m Trial 41 finished with value: -18.785 and parameters: {'b': 143.59134513652438, 'k1': 1464.5010438469708, 'k3': 5.714341182727476, 'k4': 4.932577311897113, 'k5': 25.662076691228744, 'pv': 1.4220083499363503, 'pr': 0.6891004937308023}. Best is trial 11 with value: -19.039999999999996.\u001b[0m\n"
          ]
        },
        {
          "name": "stdout",
          "output_type": "stream",
          "text": [
            "18.785\n",
            "143.59134513652438 1464.5010438469708 5.714341182727476 4.932577311897113 25.662076691228744\n"
          ]
        },
        {
          "name": "stderr",
          "output_type": "stream",
          "text": [
            "\u001b[32m[I 2023-01-15 16:56:29,740]\u001b[0m Trial 42 finished with value: -18.756999999999998 and parameters: {'b': 144.28365715196577, 'k1': 1427.9116291934429, 'k3': 5.899287753645148, 'k4': 4.995311124498691, 'k5': 25.539272007722616, 'pv': 1.4069553472395768, 'pr': 0.6792169821047552}. Best is trial 11 with value: -19.039999999999996.\u001b[0m\n"
          ]
        },
        {
          "name": "stdout",
          "output_type": "stream",
          "text": [
            "18.756999999999998\n",
            "144.28365715196577 1427.9116291934429 5.899287753645148 4.995311124498691 25.539272007722616\n"
          ]
        },
        {
          "name": "stderr",
          "output_type": "stream",
          "text": [
            "\u001b[32m[I 2023-01-15 16:58:01,613]\u001b[0m Trial 43 finished with value: -18.251999999999995 and parameters: {'b': 136.4995097625492, 'k1': 1465.719719358346, 'k3': 5.650772553176156, 'k4': 4.988520226765277, 'k5': 24.05663996774338, 'pv': 1.490922925100906, 'pr': 0.6734291738777385}. Best is trial 11 with value: -19.039999999999996.\u001b[0m\n"
          ]
        },
        {
          "name": "stdout",
          "output_type": "stream",
          "text": [
            "18.251999999999995\n",
            "136.4995097625492 1465.719719358346 5.650772553176156 4.988520226765277 24.05663996774338\n"
          ]
        },
        {
          "name": "stderr",
          "output_type": "stream",
          "text": [
            "\u001b[32m[I 2023-01-15 16:59:33,781]\u001b[0m Trial 44 finished with value: -18.086 and parameters: {'b': 131.7023639814178, 'k1': 1459.296810784241, 'k3': 6.604076294579018, 'k4': 4.83245413372854, 'k5': 22.1162677360914, 'pv': 1.3912673330598948, 'pr': 0.648426915696458}. Best is trial 11 with value: -19.039999999999996.\u001b[0m\n"
          ]
        },
        {
          "name": "stdout",
          "output_type": "stream",
          "text": [
            "18.086\n",
            "131.7023639814178 1459.296810784241 6.604076294579018 4.83245413372854 22.1162677360914\n"
          ]
        },
        {
          "name": "stderr",
          "output_type": "stream",
          "text": [
            "\u001b[32m[I 2023-01-15 17:01:06,054]\u001b[0m Trial 45 finished with value: -18.676 and parameters: {'b': 143.89418774479404, 'k1': 1434.5789849720543, 'k3': 5.857227627338912, 'k4': 4.709674235326082, 'k5': 25.57840359222153, 'pv': 1.5444920176488695, 'pr': 0.6971081101359935}. Best is trial 11 with value: -19.039999999999996.\u001b[0m\n"
          ]
        },
        {
          "name": "stdout",
          "output_type": "stream",
          "text": [
            "18.676\n",
            "143.89418774479404 1434.5789849720543 5.857227627338912 4.709674235326082 25.57840359222153\n"
          ]
        },
        {
          "name": "stderr",
          "output_type": "stream",
          "text": [
            "\u001b[32m[I 2023-01-15 17:02:38,672]\u001b[0m Trial 46 finished with value: -18.749 and parameters: {'b': 124.32294425058674, 'k1': 1353.9960144241, 'k3': 6.255984665182619, 'k4': 4.938290698702272, 'k5': 21.104329185801117, 'pv': 1.3862004740280909, 'pr': 0.6170503606419756}. Best is trial 11 with value: -19.039999999999996.\u001b[0m\n"
          ]
        },
        {
          "name": "stdout",
          "output_type": "stream",
          "text": [
            "18.749\n",
            "124.32294425058674 1353.9960144241 6.255984665182619 4.938290698702272 21.104329185801117\n"
          ]
        },
        {
          "name": "stderr",
          "output_type": "stream",
          "text": [
            "\u001b[32m[I 2023-01-15 17:04:11,330]\u001b[0m Trial 47 finished with value: -17.812999999999995 and parameters: {'b': 124.04452665349781, 'k1': 1348.2173956096183, 'k3': 8.060113949511017, 'k4': 4.889227466581495, 'k5': 27.74705932162814, 'pv': 1.385044590288136, 'pr': 0.6094956793010734}. Best is trial 11 with value: -19.039999999999996.\u001b[0m\n"
          ]
        },
        {
          "name": "stdout",
          "output_type": "stream",
          "text": [
            "17.812999999999995\n",
            "124.04452665349781 1348.2173956096183 8.060113949511017 4.889227466581495 27.74705932162814\n"
          ]
        },
        {
          "name": "stderr",
          "output_type": "stream",
          "text": [
            "\u001b[32m[I 2023-01-15 17:05:44,243]\u001b[0m Trial 48 finished with value: -18.368000000000002 and parameters: {'b': 132.33378829780474, 'k1': 1277.8655233606455, 'k3': 5.237532812990466, 'k4': 4.678400778203673, 'k5': 20.568922262562225, 'pv': 1.2740727894918182, 'pr': 0.5807407141559413}. Best is trial 11 with value: -19.039999999999996.\u001b[0m\n"
          ]
        },
        {
          "name": "stdout",
          "output_type": "stream",
          "text": [
            "18.368000000000002\n",
            "132.33378829780474 1277.8655233606455 5.237532812990466 4.678400778203673 20.568922262562225\n"
          ]
        },
        {
          "name": "stderr",
          "output_type": "stream",
          "text": [
            "\u001b[32m[I 2023-01-15 17:07:17,180]\u001b[0m Trial 49 finished with value: -18.768 and parameters: {'b': 105.13173557409846, 'k1': 1431.625909439198, 'k3': 5.611229989461745, 'k4': 4.214912582878571, 'k5': 29.214835924348616, 'pv': 1.326055933881226, 'pr': 0.6276506915669933}. Best is trial 11 with value: -19.039999999999996.\u001b[0m\n"
          ]
        },
        {
          "name": "stdout",
          "output_type": "stream",
          "text": [
            "18.768\n",
            "105.13173557409846 1431.625909439198 5.611229989461745 4.214912582878571 29.214835924348616\n"
          ]
        },
        {
          "name": "stderr",
          "output_type": "stream",
          "text": [
            "\u001b[32m[I 2023-01-15 17:08:49,067]\u001b[0m Trial 50 finished with value: -16.762999999999995 and parameters: {'b': 69.95030636732113, 'k1': 1154.6189808852796, 'k3': 5.652677705535353, 'k4': 4.215239904320017, 'k5': 29.27715104723831, 'pv': 1.3343656558666535, 'pr': 0.5796991804114408}. Best is trial 11 with value: -19.039999999999996.\u001b[0m\n"
          ]
        },
        {
          "name": "stdout",
          "output_type": "stream",
          "text": [
            "16.762999999999995\n",
            "69.95030636732113 1154.6189808852796 5.652677705535353 4.215239904320017 29.27715104723831\n"
          ]
        },
        {
          "name": "stderr",
          "output_type": "stream",
          "text": [
            "\u001b[32m[I 2023-01-15 17:10:22,821]\u001b[0m Trial 51 finished with value: -18.573999999999995 and parameters: {'b': 115.338917450553, 'k1': 1396.0002441698823, 'k3': 5.550925869794044, 'k4': 3.8940815019012556, 'k5': 30.64376497592557, 'pv': 1.3084793168700979, 'pr': 0.6305191731901624}. Best is trial 11 with value: -19.039999999999996.\u001b[0m\n"
          ]
        },
        {
          "name": "stdout",
          "output_type": "stream",
          "text": [
            "18.573999999999995\n",
            "115.338917450553 1396.0002441698823 5.550925869794044 3.8940815019012556 30.64376497592557\n"
          ]
        },
        {
          "name": "stderr",
          "output_type": "stream",
          "text": [
            "\u001b[32m[I 2023-01-15 17:11:58,287]\u001b[0m Trial 52 finished with value: -17.4 and parameters: {'b': 104.24381203184468, 'k1': 1473.6278347567757, 'k3': 6.156882184047036, 'k4': 3.6829675130930375, 'k5': 29.35651492721883, 'pv': 1.2425048185948597, 'pr': 0.6739802337183753}. Best is trial 11 with value: -19.039999999999996.\u001b[0m\n"
          ]
        },
        {
          "name": "stdout",
          "output_type": "stream",
          "text": [
            "17.4\n",
            "104.24381203184468 1473.6278347567757 6.156882184047036 3.6829675130930375 29.35651492721883\n"
          ]
        },
        {
          "name": "stderr",
          "output_type": "stream",
          "text": [
            "\u001b[32m[I 2023-01-15 17:13:29,836]\u001b[0m Trial 53 finished with value: -17.148 and parameters: {'b': 145.447134511086, 'k1': 1429.6980019751882, 'k3': 8.612919901977097, 'k4': 4.906883469895392, 'k5': 21.40189523650419, 'pv': 1.3969469939028434, 'pr': 0.6443000409988124}. Best is trial 11 with value: -19.039999999999996.\u001b[0m\n"
          ]
        },
        {
          "name": "stdout",
          "output_type": "stream",
          "text": [
            "17.148\n",
            "145.447134511086 1429.6980019751882 8.612919901977097 4.906883469895392 21.40189523650419\n"
          ]
        },
        {
          "name": "stderr",
          "output_type": "stream",
          "text": [
            "\u001b[32m[I 2023-01-15 17:15:01,189]\u001b[0m Trial 54 finished with value: -18.012 and parameters: {'b': 106.05105621325818, 'k1': 1460.349372738422, 'k3': 5.986610312505457, 'k4': 3.9529281739582522, 'k5': 26.971619975251013, 'pv': 1.5238825742427626, 'pr': 0.5947600685493132}. Best is trial 11 with value: -19.039999999999996.\u001b[0m\n"
          ]
        },
        {
          "name": "stdout",
          "output_type": "stream",
          "text": [
            "18.012\n",
            "106.05105621325818 1460.349372738422 5.986610312505457 3.9529281739582522 26.971619975251013\n"
          ]
        },
        {
          "name": "stderr",
          "output_type": "stream",
          "text": [
            "\u001b[32m[I 2023-01-15 17:16:32,282]\u001b[0m Trial 55 finished with value: -18.013 and parameters: {'b': 117.79281271830999, 'k1': 1422.8059486712966, 'k3': 5.414400449514072, 'k4': 4.281819060442331, 'k5': 33.07787698693019, 'pv': 1.307661407166249, 'pr': 0.6993655665597223}. Best is trial 11 with value: -19.039999999999996.\u001b[0m\n"
          ]
        },
        {
          "name": "stdout",
          "output_type": "stream",
          "text": [
            "18.013\n",
            "117.79281271830999 1422.8059486712966 5.414400449514072 4.281819060442331 33.07787698693019\n"
          ]
        },
        {
          "name": "stderr",
          "output_type": "stream",
          "text": [
            "\u001b[32m[I 2023-01-15 17:18:03,422]\u001b[0m Trial 56 finished with value: -18.378000000000004 and parameters: {'b': 146.17801095129846, 'k1': 1396.2810654363707, 'k3': 5.712997202578484, 'k4': 3.7902814964629896, 'k5': 30.809217229202257, 'pv': 1.4708222879759894, 'pr': 0.3156081225246644}. Best is trial 11 with value: -19.039999999999996.\u001b[0m\n"
          ]
        },
        {
          "name": "stdout",
          "output_type": "stream",
          "text": [
            "18.378000000000004\n",
            "146.17801095129846 1396.2810654363707 5.712997202578484 3.7902814964629896 30.809217229202257\n"
          ]
        },
        {
          "name": "stderr",
          "output_type": "stream",
          "text": [
            "\u001b[32m[I 2023-01-15 17:19:34,409]\u001b[0m Trial 57 finished with value: -18.69 and parameters: {'b': 136.8753180692173, 'k1': 1452.585833765322, 'k3': 5.1803016278699525, 'k4': 4.4981883487421035, 'k5': 28.784753162228544, 'pv': 1.9851718469659483, 'pr': 0.6557690563574566}. Best is trial 11 with value: -19.039999999999996.\u001b[0m\n"
          ]
        },
        {
          "name": "stdout",
          "output_type": "stream",
          "text": [
            "18.69\n",
            "136.8753180692173 1452.585833765322 5.1803016278699525 4.4981883487421035 28.784753162228544\n"
          ]
        },
        {
          "name": "stderr",
          "output_type": "stream",
          "text": [
            "\u001b[32m[I 2023-01-15 17:21:05,393]\u001b[0m Trial 58 finished with value: -18.776 and parameters: {'b': 123.69815672056185, 'k1': 1477.7306902476903, 'k3': 6.280938142524472, 'k4': 4.986394975048716, 'k5': 26.34746196855067, 'pv': 1.1533591962921106, 'pr': 0.6213193348261956}. Best is trial 11 with value: -19.039999999999996.\u001b[0m\n"
          ]
        },
        {
          "name": "stdout",
          "output_type": "stream",
          "text": [
            "18.776\n",
            "123.69815672056185 1477.7306902476903 6.280938142524472 4.986394975048716 26.34746196855067\n"
          ]
        },
        {
          "name": "stderr",
          "output_type": "stream",
          "text": [
            "\u001b[32m[I 2023-01-15 17:22:36,572]\u001b[0m Trial 59 finished with value: -18.635999999999996 and parameters: {'b': 110.13079542251657, 'k1': 1475.0102221481213, 'k3': 6.79644201906857, 'k4': 4.840709005639741, 'k5': 26.10758598689032, 'pv': 1.0491715197556164, 'pr': 0.5209267607497113}. Best is trial 11 with value: -19.039999999999996.\u001b[0m\n"
          ]
        },
        {
          "name": "stdout",
          "output_type": "stream",
          "text": [
            "18.635999999999996\n",
            "110.13079542251657 1475.0102221481213 6.79644201906857 4.840709005639741 26.10758598689032\n"
          ]
        },
        {
          "name": "stderr",
          "output_type": "stream",
          "text": [
            "\u001b[32m[I 2023-01-15 17:24:08,342]\u001b[0m Trial 60 finished with value: -18.854000000000003 and parameters: {'b': 147.31089655615332, 'k1': 1094.7635607434104, 'k3': 5.771530019267444, 'k4': 4.996055021693765, 'k5': 27.958622749013223, 'pv': 1.1536458423073925, 'pr': 0.479021387481846}. Best is trial 11 with value: -19.039999999999996.\u001b[0m\n"
          ]
        },
        {
          "name": "stdout",
          "output_type": "stream",
          "text": [
            "18.854000000000003\n",
            "147.31089655615332 1094.7635607434104 5.771530019267444 4.996055021693765 27.958622749013223\n"
          ]
        },
        {
          "name": "stderr",
          "output_type": "stream",
          "text": [
            "\u001b[32m[I 2023-01-15 17:25:38,980]\u001b[0m Trial 61 finished with value: -18.827 and parameters: {'b': 146.94811686155185, 'k1': 1078.0684993833218, 'k3': 5.800352768731192, 'k4': 4.98518599881352, 'k5': 27.89499193563915, 'pv': 1.1872161839392352, 'pr': 0.41881467836807196}. Best is trial 11 with value: -19.039999999999996.\u001b[0m\n"
          ]
        },
        {
          "name": "stdout",
          "output_type": "stream",
          "text": [
            "18.827\n",
            "146.94811686155185 1078.0684993833218 5.800352768731192 4.98518599881352 27.89499193563915\n"
          ]
        },
        {
          "name": "stderr",
          "output_type": "stream",
          "text": [
            "\u001b[32m[I 2023-01-15 17:27:09,465]\u001b[0m Trial 62 finished with value: -18.747000000000003 and parameters: {'b': 149.41772318140096, 'k1': 1086.7256651187597, 'k3': 5.554857132353183, 'k4': 4.774094601353931, 'k5': 27.986149174860344, 'pv': 1.160843965478787, 'pr': 0.4365789495140297}. Best is trial 11 with value: -19.039999999999996.\u001b[0m\n"
          ]
        },
        {
          "name": "stdout",
          "output_type": "stream",
          "text": [
            "18.747000000000003\n",
            "149.41772318140096 1086.7256651187597 5.554857132353183 4.774094601353931 27.986149174860344\n"
          ]
        },
        {
          "name": "stderr",
          "output_type": "stream",
          "text": [
            "\u001b[32m[I 2023-01-15 17:28:40,133]\u001b[0m Trial 63 finished with value: -18.563 and parameters: {'b': 139.4845750510118, 'k1': 1071.611988399584, 'k3': 5.7250592956307464, 'k4': 4.860754817619521, 'k5': 27.089082893454542, 'pv': 1.1208922083771244, 'pr': 0.3668227988959681}. Best is trial 11 with value: -19.039999999999996.\u001b[0m\n"
          ]
        },
        {
          "name": "stdout",
          "output_type": "stream",
          "text": [
            "18.563\n",
            "139.4845750510118 1071.611988399584 5.7250592956307464 4.860754817619521 27.089082893454542\n"
          ]
        },
        {
          "name": "stderr",
          "output_type": "stream",
          "text": [
            "\u001b[32m[I 2023-01-15 17:30:12,582]\u001b[0m Trial 64 finished with value: -18.976 and parameters: {'b': 146.97473919145122, 'k1': 1074.6298948413148, 'k3': 5.457787396407857, 'k4': 4.095563514768051, 'k5': 30.305495767425636, 'pv': 1.2502643896294876, 'pr': 0.42202720433235075}. Best is trial 11 with value: -19.039999999999996.\u001b[0m\n"
          ]
        },
        {
          "name": "stdout",
          "output_type": "stream",
          "text": [
            "18.976\n",
            "146.97473919145122 1074.6298948413148 5.457787396407857 4.095563514768051 30.305495767425636\n"
          ]
        },
        {
          "name": "stderr",
          "output_type": "stream",
          "text": [
            "\u001b[32m[I 2023-01-15 17:31:43,722]\u001b[0m Trial 65 finished with value: -19.152 and parameters: {'b': 146.78103236909564, 'k1': 1052.6734823937838, 'k3': 5.000060042692029, 'k4': 4.076295549042646, 'k5': 30.35386195677128, 'pv': 1.2473600285513713, 'pr': 0.42051416468849856}. Best is trial 65 with value: -19.152.\u001b[0m\n"
          ]
        },
        {
          "name": "stdout",
          "output_type": "stream",
          "text": [
            "19.152\n",
            "146.78103236909564 1052.6734823937838 5.000060042692029 4.076295549042646 30.35386195677128\n"
          ]
        },
        {
          "name": "stderr",
          "output_type": "stream",
          "text": [
            "\u001b[32m[I 2023-01-15 17:33:14,425]\u001b[0m Trial 66 finished with value: -18.986 and parameters: {'b': 146.31832870051537, 'k1': 1048.6375963333383, 'k3': 5.174322081065182, 'k4': 4.072829621467114, 'k5': 30.04895172498018, 'pv': 1.2472233995292383, 'pr': 0.41562825519195234}. Best is trial 65 with value: -19.152.\u001b[0m\n"
          ]
        },
        {
          "name": "stdout",
          "output_type": "stream",
          "text": [
            "18.986\n",
            "146.31832870051537 1048.6375963333383 5.174322081065182 4.072829621467114 30.04895172498018\n"
          ]
        },
        {
          "name": "stderr",
          "output_type": "stream",
          "text": [
            "\u001b[32m[I 2023-01-15 17:34:44,307]\u001b[0m Trial 67 finished with value: -19.114 and parameters: {'b': 146.64198644785074, 'k1': 1033.0833450164337, 'k3': 5.133458402186386, 'k4': 4.098223365034587, 'k5': 30.212715010091006, 'pv': 1.2411787039495243, 'pr': 0.4166110077003098}. Best is trial 65 with value: -19.152.\u001b[0m\n"
          ]
        },
        {
          "name": "stdout",
          "output_type": "stream",
          "text": [
            "19.114\n",
            "146.64198644785074 1033.0833450164337 5.133458402186386 4.098223365034587 30.212715010091006\n"
          ]
        },
        {
          "name": "stderr",
          "output_type": "stream",
          "text": [
            "\u001b[32m[I 2023-01-15 17:34:58,567]\u001b[0m Trial 68 finished with value: -0.8560000000000001 and parameters: {'b': 146.94702818001733, 'k1': 1015.3113673768455, 'k3': 5.031965583645903, 'k4': 4.082698711568994, 'k5': 30.144045775920794, 'pv': 1.2486606078286968, 'pr': 0.471101815819003}. Best is trial 65 with value: -19.152.\u001b[0m\n",
            "\u001b[32m[I 2023-01-15 17:34:58,668]\u001b[0m Trial 69 finished with value: 0.0 and parameters: {'b': 140.14746001859098, 'k1': 1038.400626150147, 'k3': 5.189426429739028, 'k4': 4.01750013245227, 'k5': 31.47098498006072, 'pv': 1.078167854568591, 'pr': 0.39717359733477225}. Best is trial 65 with value: -19.152.\u001b[0m\n"
          ]
        },
        {
          "name": "stdout",
          "output_type": "stream",
          "text": [
            "0.8560000000000001\n",
            "146.94702818001733 1015.3113673768455 5.031965583645903 4.082698711568994 30.144045775920794\n",
            "0\n",
            "140.14746001859098 1038.400626150147 5.189426429739028 4.01750013245227 31.47098498006072\n"
          ]
        },
        {
          "name": "stderr",
          "output_type": "stream",
          "text": [
            "\u001b[32m[I 2023-01-15 17:34:58,779]\u001b[0m Trial 70 finished with value: 0.0 and parameters: {'b': 133.7428579878058, 'k1': 1051.1600482944111, 'k3': 5.38353916358926, 'k4': 3.9459510159290216, 'k5': 32.455312523948415, 'pv': 1.2131450255322325, 'pr': 0.3718014068409682}. Best is trial 65 with value: -19.152.\u001b[0m\n",
            "\u001b[32m[I 2023-01-15 17:34:58,888]\u001b[0m Trial 71 finished with value: 0.0 and parameters: {'b': 148.22179851219047, 'k1': 1118.513609570854, 'k3': 5.183148030455511, 'k4': 4.145592554755672, 'k5': 30.093278008780285, 'pv': 1.178105627473057, 'pr': 0.4298487543820399}. Best is trial 65 with value: -19.152.\u001b[0m\n"
          ]
        },
        {
          "name": "stdout",
          "output_type": "stream",
          "text": [
            "0\n",
            "133.7428579878058 1051.1600482944111 5.38353916358926 3.9459510159290216 32.455312523948415\n",
            "0\n",
            "148.22179851219047 1118.513609570854 5.183148030455511 4.145592554755672 30.093278008780285\n"
          ]
        },
        {
          "name": "stderr",
          "output_type": "stream",
          "text": [
            "\u001b[32m[I 2023-01-15 17:34:58,998]\u001b[0m Trial 72 finished with value: 0.0 and parameters: {'b': 138.25371704538395, 'k1': 1114.6962429684625, 'k3': 5.469992863555419, 'k4': 4.140527965500181, 'k5': 31.098321092976438, 'pv': 1.108856044539911, 'pr': 0.4109278805058626}. Best is trial 65 with value: -19.152.\u001b[0m\n",
            "\u001b[32m[I 2023-01-15 17:34:59,105]\u001b[0m Trial 73 finished with value: 0.0 and parameters: {'b': 146.92211448924476, 'k1': 1041.6992137415416, 'k3': 5.28602369018587, 'k4': 4.2976674411134885, 'k5': 28.478713410263417, 'pv': 1.261415781717164, 'pr': 0.48538386678895623}. Best is trial 65 with value: -19.152.\u001b[0m\n"
          ]
        },
        {
          "name": "stdout",
          "output_type": "stream",
          "text": [
            "0\n",
            "138.25371704538395 1114.6962429684625 5.469992863555419 4.140527965500181 31.098321092976438\n",
            "0\n",
            "146.92211448924476 1041.6992137415416 5.28602369018587 4.2976674411134885 28.478713410263417\n"
          ]
        },
        {
          "name": "stderr",
          "output_type": "stream",
          "text": [
            "\u001b[32m[I 2023-01-15 17:34:59,211]\u001b[0m Trial 74 finished with value: 0.0 and parameters: {'b': 149.96689839575077, 'k1': 1065.618852960044, 'k3': 5.035358929442426, 'k4': 3.797916608767807, 'k5': 29.709365057911487, 'pv': 1.1937027006745304, 'pr': 0.4171476599602402}. Best is trial 65 with value: -19.152.\u001b[0m\n",
            "\u001b[32m[I 2023-01-15 17:34:59,314]\u001b[0m Trial 75 finished with value: 0.0 and parameters: {'b': 142.05579386979065, 'k1': 1021.123391055189, 'k3': 5.42705633571354, 'k4': 3.638413468713676, 'k5': 30.332317627270903, 'pv': 1.1317749691189751, 'pr': 0.3486189540694856}. Best is trial 65 with value: -19.152.\u001b[0m\n"
          ]
        },
        {
          "name": "stdout",
          "output_type": "stream",
          "text": [
            "0\n",
            "149.96689839575077 1065.618852960044 5.035358929442426 3.797916608767807 29.709365057911487\n",
            "0\n",
            "142.05579386979065 1021.123391055189 5.42705633571354 3.638413468713676 30.332317627270903\n"
          ]
        },
        {
          "name": "stderr",
          "output_type": "stream",
          "text": [
            "\u001b[32m[I 2023-01-15 17:34:59,418]\u001b[0m Trial 76 finished with value: 0.0 and parameters: {'b': 146.49218631820293, 'k1': 1087.0065057754223, 'k3': 5.160821772002187, 'k4': 3.9600890252668535, 'k5': 31.441465228514414, 'pv': 1.2188976021140088, 'pr': 0.43932963757923177}. Best is trial 65 with value: -19.152.\u001b[0m\n",
            "\u001b[32m[I 2023-01-15 17:34:59,529]\u001b[0m Trial 77 finished with value: 0.0 and parameters: {'b': 135.9278380391136, 'k1': 1157.2844887919173, 'k3': 5.257542339282644, 'k4': 4.029056684909201, 'k5': 32.98065041041519, 'pv': 1.2866202824275135, 'pr': 0.3812957676205128}. Best is trial 65 with value: -19.152.\u001b[0m\n"
          ]
        },
        {
          "name": "stdout",
          "output_type": "stream",
          "text": [
            "0\n",
            "146.49218631820293 1087.0065057754223 5.160821772002187 3.9600890252668535 31.441465228514414\n",
            "0\n",
            "135.9278380391136 1157.2844887919173 5.257542339282644 4.029056684909201 32.98065041041519\n"
          ]
        },
        {
          "name": "stderr",
          "output_type": "stream",
          "text": [
            "\u001b[32m[I 2023-01-15 17:34:59,636]\u001b[0m Trial 78 finished with value: 0.0 and parameters: {'b': 144.12870597716665, 'k1': 1101.2417161743724, 'k3': 5.8347896021408, 'k4': 4.36660748374982, 'k5': 27.86558746350334, 'pv': 1.0487694302395605, 'pr': 0.31618999000434517}. Best is trial 65 with value: -19.152.\u001b[0m\n",
            "\u001b[32m[I 2023-01-15 17:34:59,732]\u001b[0m Trial 79 finished with value: 0.0 and parameters: {'b': 139.8664355392475, 'k1': 1069.493908608341, 'k3': 5.472676882688442, 'k4': 4.1042624387296485, 'k5': 29.015982585552, 'pv': 1.358324372213502, 'pr': 0.2761707418465853}. Best is trial 65 with value: -19.152.\u001b[0m\n",
            "\u001b[32m[I 2023-01-15 17:34:59,835]\u001b[0m Trial 80 finished with value: 0.0 and parameters: {'b': 147.11557331262858, 'k1': 1022.4215372701356, 'k3': 5.954527322899509, 'k4': 4.2489603628567485, 'k5': 31.994086516965094, 'pv': 1.233482653730857, 'pr': 0.4600778960559235}. Best is trial 65 with value: -19.152.\u001b[0m\n"
          ]
        },
        {
          "name": "stdout",
          "output_type": "stream",
          "text": [
            "0\n",
            "144.12870597716665 1101.2417161743724 5.8347896021408 4.36660748374982 27.86558746350334\n",
            "0\n",
            "139.8664355392475 1069.493908608341 5.472676882688442 4.1042624387296485 29.015982585552\n",
            "0\n",
            "147.11557331262858 1022.4215372701356 5.954527322899509 4.2489603628567485 31.994086516965094\n"
          ]
        },
        {
          "name": "stderr",
          "output_type": "stream",
          "text": [
            "\u001b[32m[I 2023-01-15 17:34:59,940]\u001b[0m Trial 81 finished with value: 0.0 and parameters: {'b': 143.65306046151161, 'k1': 1004.6387851040008, 'k3': 5.116338395777627, 'k4': 4.170202001571587, 'k5': 29.685680387827563, 'pv': 1.2914678427151758, 'pr': 0.41559783593843425}. Best is trial 65 with value: -19.152.\u001b[0m\n",
            "\u001b[32m[I 2023-01-15 17:35:00,041]\u001b[0m Trial 82 finished with value: 0.0 and parameters: {'b': 142.25623111599032, 'k1': 1055.1654180718465, 'k3': 5.7552986708996015, 'k4': 3.8989607673129574, 'k5': 28.388601813115343, 'pv': 1.181939379779018, 'pr': 0.3458789197096451}. Best is trial 65 with value: -19.152.\u001b[0m\n"
          ]
        },
        {
          "name": "stdout",
          "output_type": "stream",
          "text": [
            "0\n",
            "143.65306046151161 1004.6387851040008 5.116338395777627 4.170202001571587 29.685680387827563\n",
            "0\n",
            "142.25623111599032 1055.1654180718465 5.7552986708996015 3.8989607673129574 28.388601813115343\n"
          ]
        },
        {
          "name": "stderr",
          "output_type": "stream",
          "text": [
            "\u001b[32m[I 2023-01-15 17:35:00,144]\u001b[0m Trial 83 finished with value: 0.0 and parameters: {'b': 129.89015538381898, 'k1': 1099.7299829586761, 'k3': 5.3371587508204685, 'k4': 3.382851349673327, 'k5': 30.590012339469673, 'pv': 1.2490859018996798, 'pr': 0.44806279302883867}. Best is trial 65 with value: -19.152.\u001b[0m\n",
            "\u001b[32m[I 2023-01-15 17:35:00,250]\u001b[0m Trial 84 finished with value: 0.0 and parameters: {'b': 144.70739498767247, 'k1': 1033.7949778964348, 'k3': 5.012606606143157, 'k4': 3.82883954651233, 'k5': 31.17617397839025, 'pv': 1.1656615799194436, 'pr': 0.4749472811767072}. Best is trial 65 with value: -19.152.\u001b[0m\n"
          ]
        },
        {
          "name": "stdout",
          "output_type": "stream",
          "text": [
            "0\n",
            "129.89015538381898 1099.7299829586761 5.3371587508204685 3.382851349673327 30.590012339469673\n",
            "0\n",
            "144.70739498767247 1033.7949778964348 5.012606606143157 3.82883954651233 31.17617397839025\n"
          ]
        },
        {
          "name": "stderr",
          "output_type": "stream",
          "text": [
            "\u001b[32m[I 2023-01-15 17:35:00,358]\u001b[0m Trial 85 finished with value: 0.0 and parameters: {'b': 147.98490643417358, 'k1': 1061.948030201012, 'k3': 5.525018882165799, 'k4': 3.5429022246038713, 'k5': 27.511528011981486, 'pv': 1.2093959977814561, 'pr': 0.5058427660239015}. Best is trial 65 with value: -19.152.\u001b[0m\n",
            "\u001b[32m[I 2023-01-15 17:35:00,463]\u001b[0m Trial 86 finished with value: 0.0 and parameters: {'b': 137.31642216684597, 'k1': 1205.8180004141948, 'k3': 6.119089693695271, 'k4': 4.062978549903548, 'k5': 24.952045487722682, 'pv': 1.345732440562151, 'pr': 0.39618260967976116}. Best is trial 65 with value: -19.152.\u001b[0m\n"
          ]
        },
        {
          "name": "stdout",
          "output_type": "stream",
          "text": [
            "0\n",
            "147.98490643417358 1061.948030201012 5.525018882165799 3.5429022246038713 27.511528011981486\n",
            "0\n",
            "137.31642216684597 1205.8180004141948 6.119089693695271 4.062978549903548 24.952045487722682\n"
          ]
        },
        {
          "name": "stderr",
          "output_type": "stream",
          "text": [
            "\u001b[32m[I 2023-01-15 17:35:00,571]\u001b[0m Trial 87 finished with value: 0.0 and parameters: {'b': 149.87960753707296, 'k1': 1045.065860002127, 'k3': 5.599143183265193, 'k4': 4.936248884527685, 'k5': 26.671631856915702, 'pv': 1.1356398652039101, 'pr': 0.42515608730124466}. Best is trial 65 with value: -19.152.\u001b[0m\n",
            "\u001b[32m[I 2023-01-15 17:35:00,682]\u001b[0m Trial 88 finished with value: 0.0 and parameters: {'b': 144.9772774808286, 'k1': 1133.589115347574, 'k3': 5.299852905767039, 'k4': 4.008001420426516, 'k5': 28.832195419468526, 'pv': 1.3004542757593676, 'pr': 0.44848101007514096}. Best is trial 65 with value: -19.152.\u001b[0m\n"
          ]
        },
        {
          "name": "stdout",
          "output_type": "stream",
          "text": [
            "0\n",
            "149.87960753707296 1045.065860002127 5.599143183265193 4.936248884527685 26.671631856915702\n",
            "0\n",
            "144.9772774808286 1133.589115347574 5.299852905767039 4.008001420426516 28.832195419468526\n"
          ]
        },
        {
          "name": "stderr",
          "output_type": "stream",
          "text": [
            "\u001b[32m[I 2023-01-15 17:35:00,796]\u001b[0m Trial 89 finished with value: 0.0 and parameters: {'b': 141.7434494520677, 'k1': 1029.1568107787623, 'k3': 9.128566938029955, 'k4': 4.6797410078893815, 'k5': 29.59800532324035, 'pv': 1.269222911435636, 'pr': 0.4048270564852042}. Best is trial 65 with value: -19.152.\u001b[0m\n",
            "\u001b[32m[I 2023-01-15 17:35:00,908]\u001b[0m Trial 90 finished with value: 0.0 and parameters: {'b': 56.1837021952168, 'k1': 1000.078349668322, 'k3': 6.064538327301055, 'k4': 4.42920942900667, 'k5': 28.15167747003806, 'pv': 1.0892448622226063, 'pr': 0.6840934089999663}. Best is trial 65 with value: -19.152.\u001b[0m\n"
          ]
        },
        {
          "name": "stdout",
          "output_type": "stream",
          "text": [
            "0\n",
            "141.7434494520677 1029.1568107787623 9.128566938029955 4.6797410078893815 29.59800532324035\n",
            "0\n",
            "56.1837021952168 1000.078349668322 6.064538327301055 4.42920942900667 28.15167747003806\n"
          ]
        },
        {
          "name": "stderr",
          "output_type": "stream",
          "text": [
            "\u001b[32m[I 2023-01-15 17:35:01,019]\u001b[0m Trial 91 finished with value: 0.0 and parameters: {'b': 138.9446646322709, 'k1': 1484.6421186579366, 'k3': 5.746736973609709, 'k4': 4.963719253083685, 'k5': 26.255377268888072, 'pv': 1.1472868577032087, 'pr': 0.37580778250104624}. Best is trial 65 with value: -19.152.\u001b[0m\n",
            "\u001b[32m[I 2023-01-15 17:35:01,121]\u001b[0m Trial 92 finished with value: 0.0 and parameters: {'b': 133.92181300046758, 'k1': 1078.023728874897, 'k3': 5.852985098508254, 'k4': 4.877499335586735, 'k5': 27.35545260622311, 'pv': 1.230723348933359, 'pr': 0.35884394891294935}. Best is trial 65 with value: -19.152.\u001b[0m\n"
          ]
        },
        {
          "name": "stdout",
          "output_type": "stream",
          "text": [
            "0\n",
            "138.9446646322709 1484.6421186579366 5.746736973609709 4.963719253083685 26.255377268888072\n",
            "0\n",
            "133.92181300046758 1078.023728874897 5.852985098508254 4.877499335586735 27.35545260622311\n"
          ]
        },
        {
          "name": "stderr",
          "output_type": "stream",
          "text": [
            "\u001b[32m[I 2023-01-15 17:35:01,227]\u001b[0m Trial 93 finished with value: 0.0 and parameters: {'b': 147.70068797655506, 'k1': 1488.292075286206, 'k3': 6.2975881417243285, 'k4': 4.991071879027732, 'k5': 26.60356721053223, 'pv': 1.035164100570479, 'pr': 0.3895714773866469}. Best is trial 65 with value: -19.152.\u001b[0m\n",
            "\u001b[32m[I 2023-01-15 17:35:01,333]\u001b[0m Trial 94 finished with value: 0.0 and parameters: {'b': 143.52742954117392, 'k1': 1097.1950999451678, 'k3': 5.643873934774791, 'k4': 4.826343199600708, 'k5': 24.37456580708107, 'pv': 1.186474821892626, 'pr': 0.49374867038040104}. Best is trial 65 with value: -19.152.\u001b[0m\n"
          ]
        },
        {
          "name": "stdout",
          "output_type": "stream",
          "text": [
            "0\n",
            "147.70068797655506 1488.292075286206 6.2975881417243285 4.991071879027732 26.60356721053223\n",
            "0\n",
            "143.52742954117392 1097.1950999451678 5.643873934774791 4.826343199600708 24.37456580708107\n"
          ]
        },
        {
          "name": "stderr",
          "output_type": "stream",
          "text": [
            "\u001b[32m[I 2023-01-15 17:35:01,440]\u001b[0m Trial 95 finished with value: 0.0 and parameters: {'b': 146.31947094568557, 'k1': 1180.5801629118782, 'k3': 6.522715400746829, 'k4': 4.782400436352763, 'k5': 28.768573545315697, 'pv': 1.3177763703361753, 'pr': 0.6619472266106592}. Best is trial 65 with value: -19.152.\u001b[0m\n",
            "\u001b[32m[I 2023-01-15 17:35:01,547]\u001b[0m Trial 96 finished with value: 0.0 and parameters: {'b': 140.40821110737437, 'k1': 1235.8057395433361, 'k3': 5.402748343472751, 'k4': 4.903442075737452, 'k5': 30.182476390353862, 'pv': 1.1597163484635593, 'pr': 0.4253714890318569}. Best is trial 65 with value: -19.152.\u001b[0m\n"
          ]
        },
        {
          "name": "stdout",
          "output_type": "stream",
          "text": [
            "0\n",
            "146.31947094568557 1180.5801629118782 6.522715400746829 4.782400436352763 28.768573545315697\n",
            "0\n",
            "140.40821110737437 1235.8057395433361 5.402748343472751 4.903442075737452 30.182476390353862\n"
          ]
        },
        {
          "name": "stderr",
          "output_type": "stream",
          "text": [
            "\u001b[32m[I 2023-01-15 17:35:01,657]\u001b[0m Trial 97 finished with value: 0.0 and parameters: {'b': 129.8067064544983, 'k1': 1446.785585282481, 'k3': 5.160837927498797, 'k4': 3.9792958889300105, 'k5': 25.162935660727875, 'pv': 1.264569107667851, 'pr': 0.33223694253430625}. Best is trial 65 with value: -19.152.\u001b[0m\n",
            "\u001b[32m[I 2023-01-15 17:35:01,768]\u001b[0m Trial 98 finished with value: 0.0 and parameters: {'b': 148.2397705935053, 'k1': 1054.865878659327, 'k3': 5.9494402564538795, 'k4': 3.9184531371306197, 'k5': 32.605778067745064, 'pv': 1.2019303966619472, 'pr': 0.6858361344986453}. Best is trial 65 with value: -19.152.\u001b[0m\n"
          ]
        },
        {
          "name": "stdout",
          "output_type": "stream",
          "text": [
            "0\n",
            "129.8067064544983 1446.785585282481 5.160837927498797 3.9792958889300105 25.162935660727875\n",
            "0\n",
            "148.2397705935053 1054.865878659327 5.9494402564538795 3.9184531371306197 32.605778067745064\n"
          ]
        },
        {
          "name": "stderr",
          "output_type": "stream",
          "text": [
            "\u001b[32m[I 2023-01-15 17:35:01,883]\u001b[0m Trial 99 finished with value: 0.0 and parameters: {'b': 144.9075995218242, 'k1': 1112.3184346386663, 'k3': 5.543003615200531, 'k4': 4.941284199292853, 'k5': 25.85800604506589, 'pv': 1.3688932044561632, 'pr': 0.1053857328604435}. Best is trial 65 with value: -19.152.\u001b[0m\n"
          ]
        },
        {
          "name": "stdout",
          "output_type": "stream",
          "text": [
            "0\n",
            "144.9075995218242 1112.3184346386663 5.543003615200531 4.941284199292853 25.85800604506589\n"
          ]
        }
      ],
      "source": [
        "import numpy as np\n",
        "import random\n",
        "import requests\n",
        "from time import time\n",
        "from scipy.optimize import differential_evolution\n",
        "from multiprocessing import Pool\n",
        "import optuna\n",
        "\n",
        "url = 'http://34.27.134.71:8080'\n",
        "\n",
        "\n",
        "def objective(trial):\n",
        "    b = trial.suggest_uniform('b', 50, 150)\n",
        "    k1 = trial.suggest_uniform('k1', 1000, 1500)\n",
        "    k3 = trial.suggest_uniform('k3', 5, 10)\n",
        "    k4 = trial.suggest_uniform('k4', 3, 5)\n",
        "    k5 = trial.suggest_uniform('k5', 20, 40)\n",
        "    pv=trial.suggest_uniform('pv', 1,2)\n",
        "    pr=trial.suggest_uniform('pr', 0.1,0.7)\n",
        "\n",
        "    params = [b, k1, k3, k4, k5,pv,pr]\n",
        "    ap_total = 0\n",
        "    for q, true_wids in queries.items():\n",
        "        try:\n",
        "            res = requests.get(url + '/search', {'query': q,'b':params[0],'k1':params[1],'k3':params[2],'k4':params[3],'k5':params[4],'pr':params[5],'pv':params[6]}, timeout=35)\n",
        "            if res.status_code == 200:\n",
        "                pred_wids, _ = zip(*res.json())\n",
        "                ap = average_precision(true_wids, pred_wids)\n",
        "                ap_total += ap\n",
        "        except:\n",
        "            pass\n",
        "    print(ap_total)\n",
        "    print(b,k1,k3,k4,k5)\n",
        "    return -ap_total\n",
        "\n",
        "study = optuna.create_study()\n",
        "study.optimize(objective, n_trials=100)\n"
      ]
    },
    {
      "cell_type": "code",
      "execution_count": null,
      "metadata": {
        "colab": {
          "base_uri": "https://localhost:8080/",
          "height": 200
        },
        "id": "Mn-6pRwm-uM0",
        "outputId": "05113254-245b-4be9-fd59-4c71ec750774"
      },
      "outputs": [
        {
          "ename": "AttributeError",
          "evalue": "ignored",
          "output_type": "error",
          "traceback": [
            "\u001b[0;31m---------------------------------------------------------------------------\u001b[0m",
            "\u001b[0;31mAttributeError\u001b[0m                            Traceback (most recent call last)",
            "\u001b[0;32m<ipython-input-3-f743e53a6ef6>\u001b[0m in \u001b[0;36m<module>\u001b[0;34m\u001b[0m\n\u001b[1;32m     30\u001b[0m \u001b[0;34m\u001b[0m\u001b[0m\n\u001b[1;32m     31\u001b[0m \u001b[0mstudy\u001b[0m \u001b[0;34m=\u001b[0m \u001b[0moptuna\u001b[0m\u001b[0;34m.\u001b[0m\u001b[0mcreate_study\u001b[0m\u001b[0;34m\u001b[0m\u001b[0;34m\u001b[0m\u001b[0m\n\u001b[0;32m---> 32\u001b[0;31m \u001b[0mstudy\u001b[0m\u001b[0;34m.\u001b[0m\u001b[0moptimize\u001b[0m\u001b[0;34m(\u001b[0m\u001b[0mobjective\u001b[0m\u001b[0;34m,\u001b[0m \u001b[0mn_trials\u001b[0m\u001b[0;34m=\u001b[0m\u001b[0;36m100\u001b[0m\u001b[0;34m)\u001b[0m\u001b[0;34m\u001b[0m\u001b[0;34m\u001b[0m\u001b[0m\n\u001b[0m",
            "\u001b[0;31mAttributeError\u001b[0m: 'function' object has no attribute 'optimize'"
          ]
        }
      ],
      "source": [
        "import optuna\n",
        "b_range = [50,150]\n",
        "k1_range = [500,2000]\n",
        "k3_range = [5,30]\n",
        "k5_range = [5,60]\n",
        "k4_range = [1,16]\n",
        "pr_range = [1.0,2.0]\n",
        "pv_range = [0.1,0.7]\n",
        "def objective(trial):\n",
        "    b = trial.suggest_uniform('b', 50, 150)\n",
        "    k1 = trial.suggest_uniform('k1', 1000, 1500)\n",
        "    k3 = trial.suggest_uniform('k3', 5, 10)\n",
        "    k4 = trial.suggest_uniform('k4', 3, 5)\n",
        "    k5 = trial.suggest_uniform('k5', 20, 40)\n",
        "    pv=trial.suggest_uniform('pv', 1,2)\n",
        "    pr=trial.suggest_uniform('pr', 0.1,0.7)\n",
        "\n",
        "    params = [b, k1, k3, k4, k5,pv,pr]\n",
        "    ap_total = 0\n",
        "    for q, true_wids in queries.items():\n",
        "        try:\n",
        "            res = requests.get(url + '/search', {'query': q,'b':params[0],'k1':params[1],'k3':params[2],'k4':params[3],'k5':params[4],'pr':params[5],'pv':params[6]}, timeout=35)\n",
        "            if res.status_code == 200:\n",
        "                pred_wids, _ = zip(*res.json())\n",
        "                ap = average_precision(true_wids, pred_wids)\n",
        "                ap_total += ap\n",
        "        except:\n",
        "            pass\n",
        "    return -ap_total\n",
        "\n",
        "study = optuna.create_study\n",
        "study.optimize(objective, n_trials=100)"
      ]
    },
    {
      "cell_type": "code",
      "execution_count": null,
      "metadata": {
        "colab": {
          "base_uri": "https://localhost:8080/",
          "height": 183
        },
        "id": "2WtlxlDoC1O1",
        "outputId": "1f6b57b6-4bcb-4e7a-ae56-89dd3e35deb5"
      },
      "outputs": [
        {
          "ename": "NameError",
          "evalue": "ignored",
          "output_type": "error",
          "traceback": [
            "\u001b[0;31m---------------------------------------------------------------------------\u001b[0m",
            "\u001b[0;31mNameError\u001b[0m                                 Traceback (most recent call last)",
            "\u001b[0;32m<ipython-input-1-c212e181cf97>\u001b[0m in \u001b[0;36m<module>\u001b[0;34m\u001b[0m\n\u001b[0;32m----> 1\u001b[0;31m \u001b[0mprint\u001b[0m\u001b[0;34m(\u001b[0m\u001b[0;34m\"Best parameters:\"\u001b[0m\u001b[0;34m,\u001b[0m \u001b[0mparams\u001b[0m\u001b[0;34m)\u001b[0m\u001b[0;34m\u001b[0m\u001b[0;34m\u001b[0m\u001b[0m\n\u001b[0m\u001b[1;32m      2\u001b[0m \u001b[0mprint\u001b[0m\u001b[0;34m(\u001b[0m\u001b[0mtotal_ap\u001b[0m \u001b[0;34m-\u001b[0m \u001b[0mprev_ap\u001b[0m\u001b[0;34m)\u001b[0m\u001b[0;34m\u001b[0m\u001b[0;34m\u001b[0m\u001b[0m\n",
            "\u001b[0;31mNameError\u001b[0m: name 'params' is not defined"
          ]
        }
      ],
      "source": [
        "print(\"Best parameters:\", params)\n",
        "print(total_ap - prev_ap)"
      ]
    },
    {
      "cell_type": "code",
      "execution_count": null,
      "metadata": {
        "colab": {
          "base_uri": "https://localhost:8080/"
        },
        "id": "dYmNTq9u0ChK",
        "outputId": "61c298de-4b7a-4c8e-ee8f-c4d1f0ff20e1"
      },
      "outputs": [
        {
          "name": "stdout",
          "output_type": "stream",
          "text": [
            "0\n",
            "0\n",
            "12.449\n",
            "1\n",
            "12.449\n",
            "2\n",
            "14.08\n",
            "3\n",
            "14.08\n",
            "4\n",
            "16.049\n",
            "5\n",
            "16.049\n",
            "6\n",
            "16.049\n",
            "7\n",
            "16.049\n",
            "8\n",
            "16.049\n",
            "9\n",
            "16.762\n",
            "10\n",
            "16.762\n",
            "11\n",
            "16.762\n",
            "12\n",
            "16.944999999999997\n",
            "13\n",
            "16.944999999999997\n",
            "14\n",
            "16.944999999999997\n",
            "15\n",
            "16.944999999999997\n",
            "16\n",
            "16.944999999999997\n",
            "17\n",
            "16.944999999999997\n",
            "18\n",
            "16.944999999999997\n",
            "19\n",
            "16.944999999999997\n",
            "20\n",
            "16.944999999999997\n",
            "21\n",
            "16.944999999999997\n",
            "22\n",
            "16.944999999999997\n",
            "23\n",
            "16.944999999999997\n",
            "24\n",
            "16.944999999999997\n",
            "25\n",
            "16.944999999999997\n",
            "26\n",
            "16.944999999999997\n",
            "27\n",
            "16.944999999999997\n",
            "28\n",
            "16.944999999999997\n",
            "29\n",
            "16.944999999999997\n",
            "30\n",
            "16.944999999999997\n",
            "31\n",
            "16.944999999999997\n",
            "32\n",
            "16.944999999999997\n",
            "33\n",
            "16.944999999999997\n",
            "34\n",
            "16.944999999999997\n",
            "35\n",
            "16.944999999999997\n",
            "36\n",
            "16.944999999999997\n",
            "37\n",
            "16.944999999999997\n",
            "38\n",
            "16.944999999999997\n",
            "39\n",
            "16.944999999999997\n",
            "40\n",
            "16.944999999999997\n",
            "41\n",
            "16.944999999999997\n",
            "42\n",
            "16.944999999999997\n",
            "43\n",
            "16.944999999999997\n",
            "44\n",
            "16.944999999999997\n",
            "45\n",
            "16.944999999999997\n",
            "46\n",
            "16.944999999999997\n",
            "47\n",
            "16.944999999999997\n",
            "48\n",
            "16.944999999999997\n",
            "49\n",
            "16.944999999999997\n",
            "50\n",
            "16.944999999999997\n",
            "51\n",
            "16.944999999999997\n",
            "52\n",
            "16.944999999999997\n",
            "53\n",
            "16.944999999999997\n",
            "54\n",
            "16.944999999999997\n",
            "55\n",
            "16.944999999999997\n",
            "56\n",
            "16.944999999999997\n",
            "57\n",
            "16.944999999999997\n",
            "58\n",
            "16.944999999999997\n",
            "59\n",
            "16.944999999999997\n",
            "60\n",
            "16.944999999999997\n",
            "61\n",
            "16.944999999999997\n",
            "62\n",
            "16.944999999999997\n",
            "63\n",
            "16.944999999999997\n",
            "64\n"
          ]
        }
      ],
      "source": [
        "import random\n",
        "import requests\n",
        "from time import time\n",
        "url = 'http://104.197.128.88:8080'\n",
        "b_range = [50,150]\n",
        "k1_range = [500,2000]\n",
        "k3_range = [5,30]\n",
        "k5_range = [5,60]\n",
        "k4_range = [1,16]\n",
        "best_ap = 0\n",
        "best_params = {}\n",
        "for i in range(100):\n",
        "  print(best_ap)\n",
        "  print(i)\n",
        "  b = random.choice(b_range)\n",
        "  k1 = random.choice(k1_range)\n",
        "  k4= random.choice(k4_range)\n",
        "  k3= random.choice(k3_range)\n",
        "  k5= random.choice(k5_range)\n",
        "  ap_total =0\n",
        "  qs_res = []\n",
        "  for q, true_wids in queries.items():\n",
        "    duration, ap = None, None\n",
        "    t_start = time()\n",
        "    try:\n",
        "      res = requests.get(url + '/search', {'query': q,'b':b,'k1':k1,'k3':k3,'k4':k4,'k5':k5}, timeout=35)\n",
        "      duration = time() - t_start\n",
        "      if res.status_code == 200:\n",
        "        pred_wids, _ = zip(*res.json())\n",
        "        ap = average_precision(true_wids, pred_wids)\n",
        "        ap_total += ap\n",
        "    except:\n",
        "      pass\n",
        "    qs_res.append((q, duration, ap))\n",
        "  if best_ap < ap_total:\n",
        "    best_ap = ap_total\n",
        "    best_params[best_ap] = (k1,b,k3,k4,k5)\n",
        "    \n",
        "    \n",
        "  \n"
      ]
    },
    {
      "cell_type": "code",
      "execution_count": null,
      "metadata": {
        "colab": {
          "base_uri": "https://localhost:8080/"
        },
        "id": "XSRq8obAdblX",
        "outputId": "6ba22046-2240-4506-8178-fb10ebc2fb65"
      },
      "outputs": [
        {
          "name": "stdout",
          "output_type": "stream",
          "text": [
            "[('best marvel movie', None, None), ('How do kids come to world?', None, None), ('Information retrieval', None, None), ('LinkedIn', None, None), ('How to make coffee?', None, None), ('Ritalin', None, None), ('How to make wine at home?', None, None), ('Most expensive city in the world', None, None), ('India', None, None), ('how to make money fast?', None, None), ('Netflix', None, None), ('Apple computer', None, None), ('The Simpsons', None, None), ('World cup', None, None), ('How to lose weight?', None, None), ('Java', None, None), ('Air Jordan', None, None), ('how to deal with depression?', None, None), ('How do you make gold', None, None), ('Marijuana', None, None), ('How to make hummus', None, None), ('Winter', None, None), ('Rick and Morty', None, None), ('Natural Language processing', None, None), ('World Cup 2022', None, None), ('Dolly the sheep', None, None), ('Cigarettes', None, None), ('What is the best place to live in?', None, None), ('Elon musk', None, None), ('How do you breed flowers?', None, None)]\n",
            "0.2755333333333333\n",
            "{8.265999999999998: (2.0, 1.0)}\n"
          ]
        }
      ],
      "source": [
        "print( qs_res)\n",
        "print(best_ap/len(queries))\n",
        "print(best_params)\n"
      ]
    },
    {
      "cell_type": "code",
      "execution_count": null,
      "metadata": {
        "id": "khrzYGa90cyN"
      },
      "outputs": [],
      "source": []
    }
  ],
  "metadata": {
    "colab": {
      "provenance": []
    },
    "kernelspec": {
      "display_name": "Python 3",
      "name": "python3"
    },
    "language_info": {
      "name": "python"
    }
  },
  "nbformat": 4,
  "nbformat_minor": 0
}